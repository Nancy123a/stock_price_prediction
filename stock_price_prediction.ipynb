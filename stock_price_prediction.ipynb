{
  "nbformat": 4,
  "nbformat_minor": 0,
  "metadata": {
    "colab": {
      "provenance": [],
      "authorship_tag": "ABX9TyMhkyWmD4GO3BZj/WdMbHTP",
      "include_colab_link": true
    },
    "kernelspec": {
      "name": "python3",
      "display_name": "Python 3"
    },
    "language_info": {
      "name": "python"
    }
  },
  "cells": [
    {
      "cell_type": "markdown",
      "metadata": {
        "id": "view-in-github",
        "colab_type": "text"
      },
      "source": [
        "<a href=\"https://colab.research.google.com/github/Nancy123a/stock_price_prediction/blob/main/stock_price_prediction.ipynb\" target=\"_parent\"><img src=\"https://colab.research.google.com/assets/colab-badge.svg\" alt=\"Open In Colab\"/></a>"
      ]
    },
    {
      "cell_type": "code",
      "execution_count": 2,
      "metadata": {
        "colab": {
          "base_uri": "https://localhost:8080/",
          "height": 330
        },
        "id": "xPXaykQyfhC0",
        "outputId": "c6668ded-79df-43aa-c474-30b6c588e544"
      },
      "outputs": [
        {
          "output_type": "execute_result",
          "data": {
            "text/plain": [
              "   Unnamed: 0 symbol                       date    close     high     low  \\\n",
              "0           0   AAPL  2015-05-27 00:00:00+00:00  132.045  132.260  130.05   \n",
              "1           1   AAPL  2015-05-28 00:00:00+00:00  131.780  131.950  131.10   \n",
              "2           2   AAPL  2015-05-29 00:00:00+00:00  130.280  131.450  129.90   \n",
              "3           3   AAPL  2015-06-01 00:00:00+00:00  130.535  131.390  130.05   \n",
              "4           4   AAPL  2015-06-02 00:00:00+00:00  129.960  130.655  129.32   \n",
              "\n",
              "     open    volume    adjClose     adjHigh      adjLow     adjOpen  \\\n",
              "0  130.34  45833246  121.682558  121.880685  119.844118  120.111360   \n",
              "1  131.86  30733309  121.438354  121.595013  120.811718  121.512076   \n",
              "2  131.23  50884452  120.056069  121.134251  119.705890  120.931516   \n",
              "3  131.20  32112797  120.291057  121.078960  119.844118  120.903870   \n",
              "4  129.86  33667627  119.761181  120.401640  119.171406  119.669029   \n",
              "\n",
              "   adjVolume  divCash  splitFactor  \n",
              "0   45833246      0.0          1.0  \n",
              "1   30733309      0.0          1.0  \n",
              "2   50884452      0.0          1.0  \n",
              "3   32112797      0.0          1.0  \n",
              "4   33667627      0.0          1.0  "
            ],
            "text/html": [
              "\n",
              "  <div id=\"df-fdf3e0c3-80b7-494e-88d1-7a521eabb59e\" class=\"colab-df-container\">\n",
              "    <div>\n",
              "<style scoped>\n",
              "    .dataframe tbody tr th:only-of-type {\n",
              "        vertical-align: middle;\n",
              "    }\n",
              "\n",
              "    .dataframe tbody tr th {\n",
              "        vertical-align: top;\n",
              "    }\n",
              "\n",
              "    .dataframe thead th {\n",
              "        text-align: right;\n",
              "    }\n",
              "</style>\n",
              "<table border=\"1\" class=\"dataframe\">\n",
              "  <thead>\n",
              "    <tr style=\"text-align: right;\">\n",
              "      <th></th>\n",
              "      <th>Unnamed: 0</th>\n",
              "      <th>symbol</th>\n",
              "      <th>date</th>\n",
              "      <th>close</th>\n",
              "      <th>high</th>\n",
              "      <th>low</th>\n",
              "      <th>open</th>\n",
              "      <th>volume</th>\n",
              "      <th>adjClose</th>\n",
              "      <th>adjHigh</th>\n",
              "      <th>adjLow</th>\n",
              "      <th>adjOpen</th>\n",
              "      <th>adjVolume</th>\n",
              "      <th>divCash</th>\n",
              "      <th>splitFactor</th>\n",
              "    </tr>\n",
              "  </thead>\n",
              "  <tbody>\n",
              "    <tr>\n",
              "      <th>0</th>\n",
              "      <td>0</td>\n",
              "      <td>AAPL</td>\n",
              "      <td>2015-05-27 00:00:00+00:00</td>\n",
              "      <td>132.045</td>\n",
              "      <td>132.260</td>\n",
              "      <td>130.05</td>\n",
              "      <td>130.34</td>\n",
              "      <td>45833246</td>\n",
              "      <td>121.682558</td>\n",
              "      <td>121.880685</td>\n",
              "      <td>119.844118</td>\n",
              "      <td>120.111360</td>\n",
              "      <td>45833246</td>\n",
              "      <td>0.0</td>\n",
              "      <td>1.0</td>\n",
              "    </tr>\n",
              "    <tr>\n",
              "      <th>1</th>\n",
              "      <td>1</td>\n",
              "      <td>AAPL</td>\n",
              "      <td>2015-05-28 00:00:00+00:00</td>\n",
              "      <td>131.780</td>\n",
              "      <td>131.950</td>\n",
              "      <td>131.10</td>\n",
              "      <td>131.86</td>\n",
              "      <td>30733309</td>\n",
              "      <td>121.438354</td>\n",
              "      <td>121.595013</td>\n",
              "      <td>120.811718</td>\n",
              "      <td>121.512076</td>\n",
              "      <td>30733309</td>\n",
              "      <td>0.0</td>\n",
              "      <td>1.0</td>\n",
              "    </tr>\n",
              "    <tr>\n",
              "      <th>2</th>\n",
              "      <td>2</td>\n",
              "      <td>AAPL</td>\n",
              "      <td>2015-05-29 00:00:00+00:00</td>\n",
              "      <td>130.280</td>\n",
              "      <td>131.450</td>\n",
              "      <td>129.90</td>\n",
              "      <td>131.23</td>\n",
              "      <td>50884452</td>\n",
              "      <td>120.056069</td>\n",
              "      <td>121.134251</td>\n",
              "      <td>119.705890</td>\n",
              "      <td>120.931516</td>\n",
              "      <td>50884452</td>\n",
              "      <td>0.0</td>\n",
              "      <td>1.0</td>\n",
              "    </tr>\n",
              "    <tr>\n",
              "      <th>3</th>\n",
              "      <td>3</td>\n",
              "      <td>AAPL</td>\n",
              "      <td>2015-06-01 00:00:00+00:00</td>\n",
              "      <td>130.535</td>\n",
              "      <td>131.390</td>\n",
              "      <td>130.05</td>\n",
              "      <td>131.20</td>\n",
              "      <td>32112797</td>\n",
              "      <td>120.291057</td>\n",
              "      <td>121.078960</td>\n",
              "      <td>119.844118</td>\n",
              "      <td>120.903870</td>\n",
              "      <td>32112797</td>\n",
              "      <td>0.0</td>\n",
              "      <td>1.0</td>\n",
              "    </tr>\n",
              "    <tr>\n",
              "      <th>4</th>\n",
              "      <td>4</td>\n",
              "      <td>AAPL</td>\n",
              "      <td>2015-06-02 00:00:00+00:00</td>\n",
              "      <td>129.960</td>\n",
              "      <td>130.655</td>\n",
              "      <td>129.32</td>\n",
              "      <td>129.86</td>\n",
              "      <td>33667627</td>\n",
              "      <td>119.761181</td>\n",
              "      <td>120.401640</td>\n",
              "      <td>119.171406</td>\n",
              "      <td>119.669029</td>\n",
              "      <td>33667627</td>\n",
              "      <td>0.0</td>\n",
              "      <td>1.0</td>\n",
              "    </tr>\n",
              "  </tbody>\n",
              "</table>\n",
              "</div>\n",
              "    <div class=\"colab-df-buttons\">\n",
              "\n",
              "  <div class=\"colab-df-container\">\n",
              "    <button class=\"colab-df-convert\" onclick=\"convertToInteractive('df-fdf3e0c3-80b7-494e-88d1-7a521eabb59e')\"\n",
              "            title=\"Convert this dataframe to an interactive table.\"\n",
              "            style=\"display:none;\">\n",
              "\n",
              "  <svg xmlns=\"http://www.w3.org/2000/svg\" height=\"24px\" viewBox=\"0 -960 960 960\">\n",
              "    <path d=\"M120-120v-720h720v720H120Zm60-500h600v-160H180v160Zm220 220h160v-160H400v160Zm0 220h160v-160H400v160ZM180-400h160v-160H180v160Zm440 0h160v-160H620v160ZM180-180h160v-160H180v160Zm440 0h160v-160H620v160Z\"/>\n",
              "  </svg>\n",
              "    </button>\n",
              "\n",
              "  <style>\n",
              "    .colab-df-container {\n",
              "      display:flex;\n",
              "      gap: 12px;\n",
              "    }\n",
              "\n",
              "    .colab-df-convert {\n",
              "      background-color: #E8F0FE;\n",
              "      border: none;\n",
              "      border-radius: 50%;\n",
              "      cursor: pointer;\n",
              "      display: none;\n",
              "      fill: #1967D2;\n",
              "      height: 32px;\n",
              "      padding: 0 0 0 0;\n",
              "      width: 32px;\n",
              "    }\n",
              "\n",
              "    .colab-df-convert:hover {\n",
              "      background-color: #E2EBFA;\n",
              "      box-shadow: 0px 1px 2px rgba(60, 64, 67, 0.3), 0px 1px 3px 1px rgba(60, 64, 67, 0.15);\n",
              "      fill: #174EA6;\n",
              "    }\n",
              "\n",
              "    .colab-df-buttons div {\n",
              "      margin-bottom: 4px;\n",
              "    }\n",
              "\n",
              "    [theme=dark] .colab-df-convert {\n",
              "      background-color: #3B4455;\n",
              "      fill: #D2E3FC;\n",
              "    }\n",
              "\n",
              "    [theme=dark] .colab-df-convert:hover {\n",
              "      background-color: #434B5C;\n",
              "      box-shadow: 0px 1px 3px 1px rgba(0, 0, 0, 0.15);\n",
              "      filter: drop-shadow(0px 1px 2px rgba(0, 0, 0, 0.3));\n",
              "      fill: #FFFFFF;\n",
              "    }\n",
              "  </style>\n",
              "\n",
              "    <script>\n",
              "      const buttonEl =\n",
              "        document.querySelector('#df-fdf3e0c3-80b7-494e-88d1-7a521eabb59e button.colab-df-convert');\n",
              "      buttonEl.style.display =\n",
              "        google.colab.kernel.accessAllowed ? 'block' : 'none';\n",
              "\n",
              "      async function convertToInteractive(key) {\n",
              "        const element = document.querySelector('#df-fdf3e0c3-80b7-494e-88d1-7a521eabb59e');\n",
              "        const dataTable =\n",
              "          await google.colab.kernel.invokeFunction('convertToInteractive',\n",
              "                                                    [key], {});\n",
              "        if (!dataTable) return;\n",
              "\n",
              "        const docLinkHtml = 'Like what you see? Visit the ' +\n",
              "          '<a target=\"_blank\" href=https://colab.research.google.com/notebooks/data_table.ipynb>data table notebook</a>'\n",
              "          + ' to learn more about interactive tables.';\n",
              "        element.innerHTML = '';\n",
              "        dataTable['output_type'] = 'display_data';\n",
              "        await google.colab.output.renderOutput(dataTable, element);\n",
              "        const docLink = document.createElement('div');\n",
              "        docLink.innerHTML = docLinkHtml;\n",
              "        element.appendChild(docLink);\n",
              "      }\n",
              "    </script>\n",
              "  </div>\n",
              "\n",
              "\n",
              "<div id=\"df-d1bb85ad-16fb-4329-93a7-2fc1204bf3b6\">\n",
              "  <button class=\"colab-df-quickchart\" onclick=\"quickchart('df-d1bb85ad-16fb-4329-93a7-2fc1204bf3b6')\"\n",
              "            title=\"Suggest charts\"\n",
              "            style=\"display:none;\">\n",
              "\n",
              "<svg xmlns=\"http://www.w3.org/2000/svg\" height=\"24px\"viewBox=\"0 0 24 24\"\n",
              "     width=\"24px\">\n",
              "    <g>\n",
              "        <path d=\"M19 3H5c-1.1 0-2 .9-2 2v14c0 1.1.9 2 2 2h14c1.1 0 2-.9 2-2V5c0-1.1-.9-2-2-2zM9 17H7v-7h2v7zm4 0h-2V7h2v10zm4 0h-2v-4h2v4z\"/>\n",
              "    </g>\n",
              "</svg>\n",
              "  </button>\n",
              "\n",
              "<style>\n",
              "  .colab-df-quickchart {\n",
              "      --bg-color: #E8F0FE;\n",
              "      --fill-color: #1967D2;\n",
              "      --hover-bg-color: #E2EBFA;\n",
              "      --hover-fill-color: #174EA6;\n",
              "      --disabled-fill-color: #AAA;\n",
              "      --disabled-bg-color: #DDD;\n",
              "  }\n",
              "\n",
              "  [theme=dark] .colab-df-quickchart {\n",
              "      --bg-color: #3B4455;\n",
              "      --fill-color: #D2E3FC;\n",
              "      --hover-bg-color: #434B5C;\n",
              "      --hover-fill-color: #FFFFFF;\n",
              "      --disabled-bg-color: #3B4455;\n",
              "      --disabled-fill-color: #666;\n",
              "  }\n",
              "\n",
              "  .colab-df-quickchart {\n",
              "    background-color: var(--bg-color);\n",
              "    border: none;\n",
              "    border-radius: 50%;\n",
              "    cursor: pointer;\n",
              "    display: none;\n",
              "    fill: var(--fill-color);\n",
              "    height: 32px;\n",
              "    padding: 0;\n",
              "    width: 32px;\n",
              "  }\n",
              "\n",
              "  .colab-df-quickchart:hover {\n",
              "    background-color: var(--hover-bg-color);\n",
              "    box-shadow: 0 1px 2px rgba(60, 64, 67, 0.3), 0 1px 3px 1px rgba(60, 64, 67, 0.15);\n",
              "    fill: var(--button-hover-fill-color);\n",
              "  }\n",
              "\n",
              "  .colab-df-quickchart-complete:disabled,\n",
              "  .colab-df-quickchart-complete:disabled:hover {\n",
              "    background-color: var(--disabled-bg-color);\n",
              "    fill: var(--disabled-fill-color);\n",
              "    box-shadow: none;\n",
              "  }\n",
              "\n",
              "  .colab-df-spinner {\n",
              "    border: 2px solid var(--fill-color);\n",
              "    border-color: transparent;\n",
              "    border-bottom-color: var(--fill-color);\n",
              "    animation:\n",
              "      spin 1s steps(1) infinite;\n",
              "  }\n",
              "\n",
              "  @keyframes spin {\n",
              "    0% {\n",
              "      border-color: transparent;\n",
              "      border-bottom-color: var(--fill-color);\n",
              "      border-left-color: var(--fill-color);\n",
              "    }\n",
              "    20% {\n",
              "      border-color: transparent;\n",
              "      border-left-color: var(--fill-color);\n",
              "      border-top-color: var(--fill-color);\n",
              "    }\n",
              "    30% {\n",
              "      border-color: transparent;\n",
              "      border-left-color: var(--fill-color);\n",
              "      border-top-color: var(--fill-color);\n",
              "      border-right-color: var(--fill-color);\n",
              "    }\n",
              "    40% {\n",
              "      border-color: transparent;\n",
              "      border-right-color: var(--fill-color);\n",
              "      border-top-color: var(--fill-color);\n",
              "    }\n",
              "    60% {\n",
              "      border-color: transparent;\n",
              "      border-right-color: var(--fill-color);\n",
              "    }\n",
              "    80% {\n",
              "      border-color: transparent;\n",
              "      border-right-color: var(--fill-color);\n",
              "      border-bottom-color: var(--fill-color);\n",
              "    }\n",
              "    90% {\n",
              "      border-color: transparent;\n",
              "      border-bottom-color: var(--fill-color);\n",
              "    }\n",
              "  }\n",
              "</style>\n",
              "\n",
              "  <script>\n",
              "    async function quickchart(key) {\n",
              "      const quickchartButtonEl =\n",
              "        document.querySelector('#' + key + ' button');\n",
              "      quickchartButtonEl.disabled = true;  // To prevent multiple clicks.\n",
              "      quickchartButtonEl.classList.add('colab-df-spinner');\n",
              "      try {\n",
              "        const charts = await google.colab.kernel.invokeFunction(\n",
              "            'suggestCharts', [key], {});\n",
              "      } catch (error) {\n",
              "        console.error('Error during call to suggestCharts:', error);\n",
              "      }\n",
              "      quickchartButtonEl.classList.remove('colab-df-spinner');\n",
              "      quickchartButtonEl.classList.add('colab-df-quickchart-complete');\n",
              "    }\n",
              "    (() => {\n",
              "      let quickchartButtonEl =\n",
              "        document.querySelector('#df-d1bb85ad-16fb-4329-93a7-2fc1204bf3b6 button');\n",
              "      quickchartButtonEl.style.display =\n",
              "        google.colab.kernel.accessAllowed ? 'block' : 'none';\n",
              "    })();\n",
              "  </script>\n",
              "</div>\n",
              "\n",
              "    </div>\n",
              "  </div>\n"
            ],
            "application/vnd.google.colaboratory.intrinsic+json": {
              "type": "dataframe",
              "variable_name": "AAPL",
              "summary": "{\n  \"name\": \"AAPL\",\n  \"rows\": 1258,\n  \"fields\": [\n    {\n      \"column\": \"Unnamed: 0\",\n      \"properties\": {\n        \"dtype\": \"number\",\n        \"std\": 363,\n        \"min\": 0,\n        \"max\": 1257,\n        \"num_unique_values\": 1258,\n        \"samples\": [\n          561,\n          101,\n          51\n        ],\n        \"semantic_type\": \"\",\n        \"description\": \"\"\n      }\n    },\n    {\n      \"column\": \"symbol\",\n      \"properties\": {\n        \"dtype\": \"category\",\n        \"num_unique_values\": 1,\n        \"samples\": [\n          \"AAPL\"\n        ],\n        \"semantic_type\": \"\",\n        \"description\": \"\"\n      }\n    },\n    {\n      \"column\": \"date\",\n      \"properties\": {\n        \"dtype\": \"object\",\n        \"num_unique_values\": 1258,\n        \"samples\": [\n          \"2017-08-16 00:00:00+00:00\"\n        ],\n        \"semantic_type\": \"\",\n        \"description\": \"\"\n      }\n    },\n    {\n      \"column\": \"close\",\n      \"properties\": {\n        \"dtype\": \"number\",\n        \"std\": 56.85079637576302,\n        \"min\": 90.34,\n        \"max\": 327.2,\n        \"num_unique_values\": 1201,\n        \"samples\": [\n          97.9\n        ],\n        \"semantic_type\": \"\",\n        \"description\": \"\"\n      }\n    },\n    {\n      \"column\": \"high\",\n      \"properties\": {\n        \"dtype\": \"number\",\n        \"std\": 57.500128210420044,\n        \"min\": 91.67,\n        \"max\": 327.85,\n        \"num_unique_values\": 1196,\n        \"samples\": [\n          177.78\n        ],\n        \"semantic_type\": \"\",\n        \"description\": \"\"\n      }\n    },\n    {\n      \"column\": \"low\",\n      \"properties\": {\n        \"dtype\": \"number\",\n        \"std\": 56.0067733750934,\n        \"min\": 89.47,\n        \"max\": 323.35,\n        \"num_unique_values\": 1209,\n        \"samples\": [\n          113.7\n        ],\n        \"semantic_type\": \"\",\n        \"description\": \"\"\n      }\n    },\n    {\n      \"column\": \"open\",\n      \"properties\": {\n        \"dtype\": \"number\",\n        \"std\": 56.612706510014405,\n        \"min\": 90.0,\n        \"max\": 324.73,\n        \"num_unique_values\": 1205,\n        \"samples\": [\n          114.0\n        ],\n        \"semantic_type\": \"\",\n        \"description\": \"\"\n      }\n    },\n    {\n      \"column\": \"volume\",\n      \"properties\": {\n        \"dtype\": \"number\",\n        \"std\": 17290996,\n        \"min\": 11362045,\n        \"max\": 162206292,\n        \"num_unique_values\": 1258,\n        \"samples\": [\n          27321761\n        ],\n        \"semantic_type\": \"\",\n        \"description\": \"\"\n      }\n    },\n    {\n      \"column\": \"adjClose\",\n      \"properties\": {\n        \"dtype\": \"number\",\n        \"std\": 58.73382042107333,\n        \"min\": 84.9543507876,\n        \"max\": 326.3371474514,\n        \"num_unique_values\": 1240,\n        \"samples\": [\n          115.3255043138\n        ],\n        \"semantic_type\": \"\",\n        \"description\": \"\"\n      }\n    },\n    {\n      \"column\": \"adjHigh\",\n      \"properties\": {\n        \"dtype\": \"number\",\n        \"std\": 59.4028420444512,\n        \"min\": 86.2050623943,\n        \"max\": 326.3570947098,\n        \"num_unique_values\": 1237,\n        \"samples\": [\n          167.7436178294\n        ],\n        \"semantic_type\": \"\",\n        \"description\": \"\"\n      }\n    },\n    {\n      \"column\": \"adjLow\",\n      \"properties\": {\n        \"dtype\": \"number\",\n        \"std\": 57.86924613698459,\n        \"min\": 84.13621612760001,\n        \"max\": 322.497300209,\n        \"num_unique_values\": 1238,\n        \"samples\": [\n          164.4602079237\n        ],\n        \"semantic_type\": \"\",\n        \"description\": \"\"\n      }\n    },\n    {\n      \"column\": \"adjOpen\",\n      \"properties\": {\n        \"dtype\": \"number\",\n        \"std\": 58.494560063550416,\n        \"min\": 84.6346200009,\n        \"max\": 323.87366103880004,\n        \"num_unique_values\": 1237,\n        \"samples\": [\n          165.310031664\n        ],\n        \"semantic_type\": \"\",\n        \"description\": \"\"\n      }\n    },\n    {\n      \"column\": \"adjVolume\",\n      \"properties\": {\n        \"dtype\": \"number\",\n        \"std\": 17290996,\n        \"min\": 11362045,\n        \"max\": 162206292,\n        \"num_unique_values\": 1258,\n        \"samples\": [\n          27321761\n        ],\n        \"semantic_type\": \"\",\n        \"description\": \"\"\n      }\n    },\n    {\n      \"column\": \"divCash\",\n      \"properties\": {\n        \"dtype\": \"number\",\n        \"std\": 0.08336553314965248,\n        \"min\": 0.0,\n        \"max\": 0.82,\n        \"num_unique_values\": 7,\n        \"samples\": [\n          0.0\n        ],\n        \"semantic_type\": \"\",\n        \"description\": \"\"\n      }\n    },\n    {\n      \"column\": \"splitFactor\",\n      \"properties\": {\n        \"dtype\": \"number\",\n        \"std\": 0.0,\n        \"min\": 1.0,\n        \"max\": 1.0,\n        \"num_unique_values\": 1,\n        \"samples\": [\n          1.0\n        ],\n        \"semantic_type\": \"\",\n        \"description\": \"\"\n      }\n    }\n  ]\n}"
            }
          },
          "metadata": {},
          "execution_count": 2
        }
      ],
      "source": [
        "import pandas as pd\n",
        "AAPL=pd.read_csv('sample_data/AAPL.csv')\n",
        "AAPL.head(5)"
      ]
    },
    {
      "cell_type": "code",
      "source": [
        "import matplotlib.pyplot as plt\n",
        "AAPL['close'].plot(kind='line')"
      ],
      "metadata": {
        "colab": {
          "base_uri": "https://localhost:8080/",
          "height": 447
        },
        "id": "Wnib2LjbgNIk",
        "outputId": "0fb0f8a9-0c48-4e9a-ddf0-78f0b6cf73f0"
      },
      "execution_count": 4,
      "outputs": [
        {
          "output_type": "execute_result",
          "data": {
            "text/plain": [
              "<Axes: >"
            ]
          },
          "metadata": {},
          "execution_count": 4
        },
        {
          "output_type": "display_data",
          "data": {
            "text/plain": [
              "<Figure size 640x480 with 1 Axes>"
            ],
            "image/png": "[encoded data removed]"
          },
          "metadata": {}
        }
      ]
    },
    {
      "cell_type": "markdown",
      "source": [
        "### LSTM are sensitive to the scale of the data. so we apply MinMax scaler"
      ],
      "metadata": {
        "id": "N_2h677_h7_f"
      }
    },
    {
      "cell_type": "code",
      "source": [
        "import numpy as np\n",
        "from sklearn.preprocessing import MinMaxScaler\n",
        "scaler=MinMaxScaler(feature_range=(0,1))\n",
        "df=AAPL['close']\n",
        "df1=scaler.fit_transform(np.array(df).reshape(-1,1))\n",
        "print(df1)"
      ],
      "metadata": {
        "colab": {
          "base_uri": "https://localhost:8080/"
        },
        "id": "im-BmeZihSIU",
        "outputId": "4e350a7e-0070-44ea-ff60-21dfd2e4d72f"
      },
      "execution_count": 5,
      "outputs": [
        {
          "output_type": "stream",
          "name": "stdout",
          "text": [
            "[[0.17607447]\n",
            " [0.17495567]\n",
            " [0.16862282]\n",
            " ...\n",
            " [0.96635143]\n",
            " [0.9563033 ]\n",
            " [0.96491598]]\n"
          ]
        }
      ]
    },
    {
      "cell_type": "markdown",
      "source": [
        "Divide the dataset int 65% training and 35% test"
      ],
      "metadata": {
        "id": "no9p4Okfjfhs"
      }
    },
    {
      "cell_type": "code",
      "source": [
        "train_size=int(len(df1)*0.65)\n",
        "test_size=len(df1)-train_size\n",
        "train_data,test_data=df1[0:train_size,:],df1[train_size:len(df1),:1]"
      ],
      "metadata": {
        "id": "EQ7rFWyUjDQx"
      },
      "execution_count": 8,
      "outputs": []
    },
    {
      "cell_type": "code",
      "source": [
        "import numpy\n",
        "# convert an array of values into a dataset matrix\n",
        "def create_dataset(dataset, time_step=1):\n",
        "\tdataX, dataY = [], []\n",
        "\tfor i in range(len(dataset)-time_step-1):\n",
        "\t\ta = dataset[i:(i+time_step), 0]   ###i=0, 0,1,2,3-----99   100\n",
        "\t\tdataX.append(a)\n",
        "\t\tdataY.append(dataset[i + time_step, 0])\n",
        "\treturn numpy.array(dataX), numpy.array(dataY)"
      ],
      "metadata": {
        "id": "sCI1eDaEjeZh"
      },
      "execution_count": 9,
      "outputs": []
    },
    {
      "cell_type": "code",
      "source": [
        "# reshape into X=t,t+1,t+2,t+3 and Y=t+4\n",
        "time_step = 100\n",
        "X_train, y_train = create_dataset(train_data, time_step)\n",
        "X_test, ytest = create_dataset(test_data, time_step)"
      ],
      "metadata": {
        "id": "ElbMnJe6nYH9"
      },
      "execution_count": 10,
      "outputs": []
    },
    {
      "cell_type": "code",
      "source": [
        "print(X_train.shape), print(y_train.shape)"
      ],
      "metadata": {
        "colab": {
          "base_uri": "https://localhost:8080/"
        },
        "id": "Lh200A_7ncTZ",
        "outputId": "d2f615f8-bd31-4dbe-8633-bc90bf9cfa03"
      },
      "execution_count": 11,
      "outputs": [
        {
          "output_type": "stream",
          "name": "stdout",
          "text": [
            "(716, 100)\n",
            "(716,)\n"
          ]
        },
        {
          "output_type": "execute_result",
          "data": {
            "text/plain": [
              "(None, None)"
            ]
          },
          "metadata": {},
          "execution_count": 11
        }
      ]
    },
    {
      "cell_type": "code",
      "source": [
        "# reshape input to be [samples, time steps, features] which is required for LSTM\n",
        "X_train =X_train.reshape(X_train.shape[0],X_train.shape[1] , 1) # because we have only one feature (Close)\n",
        "X_test = X_test.reshape(X_test.shape[0],X_test.shape[1] , 1) # because we have only one feature (Close)"
      ],
      "metadata": {
        "id": "H2TVgumtnfHa"
      },
      "execution_count": 12,
      "outputs": []
    },
    {
      "cell_type": "code",
      "source": [
        "### Create the Stacked LSTM model\n",
        "from tensorflow.keras.models import Sequential\n",
        "from tensorflow.keras.layers import Dense\n",
        "from tensorflow.keras.layers import LSTM"
      ],
      "metadata": {
        "id": "Qb4QrPJmoIzl"
      },
      "execution_count": 13,
      "outputs": []
    },
    {
      "cell_type": "code",
      "source": [
        "model=Sequential()\n",
        "model.add(LSTM(50,return_sequences=True,input_shape=(100,1)))\n",
        "model.add(LSTM(50,return_sequences=True))\n",
        "model.add(LSTM(50))\n",
        "model.add(Dense(1))\n",
        "model.compile(loss='mean_squared_error',optimizer='adam')"
      ],
      "metadata": {
        "colab": {
          "base_uri": "https://localhost:8080/"
        },
        "id": "wFeHtLCQoMIl",
        "outputId": "0084af1e-a3a5-48e7-cf86-bc809ae6c74c"
      },
      "execution_count": 14,
      "outputs": [
        {
          "output_type": "stream",
          "name": "stderr",
          "text": [
            "/usr/local/lib/python3.10/dist-packages/keras/src/layers/rnn/rnn.py:204: UserWarning: Do not pass an `input_shape`/`input_dim` argument to a layer. When using Sequential models, prefer using an `Input(shape)` object as the first layer in the model instead.\n",
            "  super().__init__(**kwargs)\n"
          ]
        }
      ]
    },
    {
      "cell_type": "code",
      "source": [
        "model.summary()"
      ],
      "metadata": {
        "colab": {
          "base_uri": "https://localhost:8080/",
          "height": 259
        },
        "id": "4k-zbKReo6dP",
        "outputId": "7104ab0c-689d-4fc3-b3b7-361f0aa8c108"
      },
      "execution_count": 15,
      "outputs": [
        {
          "output_type": "display_data",
          "data": {
            "text/plain": [
              "\u001b[1mModel: \"sequential\"\u001b[0m\n"
            ],
            "text/html": [
              "<pre style=\"white-space:pre;overflow-x:auto;line-height:normal;font-family:Menlo,'DejaVu Sans Mono',consolas,'Courier New',monospace\"><span style=\"font-weight: bold\">Model: \"sequential\"</span>\n",
              "</pre>\n"
            ]
          },
          "metadata": {}
        },
        {
          "output_type": "display_data",
          "data": {
            "text/plain": [
              "┏━━━━━━━━━━━━━━━━━━━━━━━━━━━━━━━━━━━━━━┳━━━━━━━━━━━━━━━━━━━━━━━━━━━━━┳━━━━━━━━━━━━━━━━━┓\n",
              "┃\u001b[1m \u001b[0m\u001b[1mLayer (type)                        \u001b[0m\u001b[1m \u001b[0m┃\u001b[1m \u001b[0m\u001b[1mOutput Shape               \u001b[0m\u001b[1m \u001b[0m┃\u001b[1m \u001b[0m\u001b[1m        Param #\u001b[0m\u001b[1m \u001b[0m┃\n",
              "┡━━━━━━━━━━━━━━━━━━━━━━━━━━━━━━━━━━━━━━╇━━━━━━━━━━━━━━━━━━━━━━━━━━━━━╇━━━━━━━━━━━━━━━━━┩\n",
              "│ lstm (\u001b[38;5;33mLSTM\u001b[0m)                          │ (\u001b[38;5;45mNone\u001b[0m, \u001b[38;5;34m100\u001b[0m, \u001b[38;5;34m50\u001b[0m)             │          \u001b[38;5;34m10,400\u001b[0m │\n",
              "├──────────────────────────────────────┼─────────────────────────────┼─────────────────┤\n",
              "│ lstm_1 (\u001b[38;5;33mLSTM\u001b[0m)                        │ (\u001b[38;5;45mNone\u001b[0m, \u001b[38;5;34m100\u001b[0m, \u001b[38;5;34m50\u001b[0m)             │          \u001b[38;5;34m20,200\u001b[0m │\n",
              "├──────────────────────────────────────┼─────────────────────────────┼─────────────────┤\n",
              "│ lstm_2 (\u001b[38;5;33mLSTM\u001b[0m)                        │ (\u001b[38;5;45mNone\u001b[0m, \u001b[38;5;34m50\u001b[0m)                  │          \u001b[38;5;34m20,200\u001b[0m │\n",
              "├──────────────────────────────────────┼─────────────────────────────┼─────────────────┤\n",
              "│ dense (\u001b[38;5;33mDense\u001b[0m)                        │ (\u001b[38;5;45mNone\u001b[0m, \u001b[38;5;34m1\u001b[0m)                   │              \u001b[38;5;34m51\u001b[0m │\n",
              "└──────────────────────────────────────┴─────────────────────────────┴─────────────────┘\n"
            ],
            "text/html": [
              "<pre style=\"white-space:pre;overflow-x:auto;line-height:normal;font-family:Menlo,'DejaVu Sans Mono',consolas,'Courier New',monospace\">┏━━━━━━━━━━━━━━━━━━━━━━━━━━━━━━━━━━━━━━┳━━━━━━━━━━━━━━━━━━━━━━━━━━━━━┳━━━━━━━━━━━━━━━━━┓\n",
              "┃<span style=\"font-weight: bold\"> Layer (type)                         </span>┃<span style=\"font-weight: bold\"> Output Shape                </span>┃<span style=\"font-weight: bold\">         Param # </span>┃\n",
              "┡━━━━━━━━━━━━━━━━━━━━━━━━━━━━━━━━━━━━━━╇━━━━━━━━━━━━━━━━━━━━━━━━━━━━━╇━━━━━━━━━━━━━━━━━┩\n",
              "│ lstm (<span style=\"color: #0087ff; text-decoration-color: #0087ff\">LSTM</span>)                          │ (<span style=\"color: #00d7ff; text-decoration-color: #00d7ff\">None</span>, <span style=\"color: #00af00; text-decoration-color: #00af00\">100</span>, <span style=\"color: #00af00; text-decoration-color: #00af00\">50</span>)             │          <span style=\"color: #00af00; text-decoration-color: #00af00\">10,400</span> │\n",
              "├──────────────────────────────────────┼─────────────────────────────┼─────────────────┤\n",
              "│ lstm_1 (<span style=\"color: #0087ff; text-decoration-color: #0087ff\">LSTM</span>)                        │ (<span style=\"color: #00d7ff; text-decoration-color: #00d7ff\">None</span>, <span style=\"color: #00af00; text-decoration-color: #00af00\">100</span>, <span style=\"color: #00af00; text-decoration-color: #00af00\">50</span>)             │          <span style=\"color: #00af00; text-decoration-color: #00af00\">20,200</span> │\n",
              "├──────────────────────────────────────┼─────────────────────────────┼─────────────────┤\n",
              "│ lstm_2 (<span style=\"color: #0087ff; text-decoration-color: #0087ff\">LSTM</span>)                        │ (<span style=\"color: #00d7ff; text-decoration-color: #00d7ff\">None</span>, <span style=\"color: #00af00; text-decoration-color: #00af00\">50</span>)                  │          <span style=\"color: #00af00; text-decoration-color: #00af00\">20,200</span> │\n",
              "├──────────────────────────────────────┼─────────────────────────────┼─────────────────┤\n",
              "│ dense (<span style=\"color: #0087ff; text-decoration-color: #0087ff\">Dense</span>)                        │ (<span style=\"color: #00d7ff; text-decoration-color: #00d7ff\">None</span>, <span style=\"color: #00af00; text-decoration-color: #00af00\">1</span>)                   │              <span style=\"color: #00af00; text-decoration-color: #00af00\">51</span> │\n",
              "└──────────────────────────────────────┴─────────────────────────────┴─────────────────┘\n",
              "</pre>\n"
            ]
          },
          "metadata": {}
        },
        {
          "output_type": "display_data",
          "data": {
            "text/plain": [
              "\u001b[1m Total params: \u001b[0m\u001b[38;5;34m50,851\u001b[0m (198.64 KB)\n"
            ],
            "text/html": [
              "<pre style=\"white-space:pre;overflow-x:auto;line-height:normal;font-family:Menlo,'DejaVu Sans Mono',consolas,'Courier New',monospace\"><span style=\"font-weight: bold\"> Total params: </span><span style=\"color: #00af00; text-decoration-color: #00af00\">50,851</span> (198.64 KB)\n",
              "</pre>\n"
            ]
          },
          "metadata": {}
        },
        {
          "output_type": "display_data",
          "data": {
            "text/plain": [
              "\u001b[1m Trainable params: \u001b[0m\u001b[38;5;34m50,851\u001b[0m (198.64 KB)\n"
            ],
            "text/html": [
              "<pre style=\"white-space:pre;overflow-x:auto;line-height:normal;font-family:Menlo,'DejaVu Sans Mono',consolas,'Courier New',monospace\"><span style=\"font-weight: bold\"> Trainable params: </span><span style=\"color: #00af00; text-decoration-color: #00af00\">50,851</span> (198.64 KB)\n",
              "</pre>\n"
            ]
          },
          "metadata": {}
        },
        {
          "output_type": "display_data",
          "data": {
            "text/plain": [
              "\u001b[1m Non-trainable params: \u001b[0m\u001b[38;5;34m0\u001b[0m (0.00 B)\n"
            ],
            "text/html": [
              "<pre style=\"white-space:pre;overflow-x:auto;line-height:normal;font-family:Menlo,'DejaVu Sans Mono',consolas,'Courier New',monospace\"><span style=\"font-weight: bold\"> Non-trainable params: </span><span style=\"color: #00af00; text-decoration-color: #00af00\">0</span> (0.00 B)\n",
              "</pre>\n"
            ]
          },
          "metadata": {}
        }
      ]
    },
    {
      "cell_type": "code",
      "source": [
        "model.fit(X_train,y_train,validation_data=(X_test,ytest),epochs=100,batch_size=64,verbose=1)"
      ],
      "metadata": {
        "colab": {
          "base_uri": "https://localhost:8080/"
        },
        "id": "cLL2BB0Uo9hn",
        "outputId": "e8f2a7d3-519b-4edf-9388-24e2eb5c1d97"
      },
      "execution_count": 16,
      "outputs": [
        {
          "output_type": "stream",
          "name": "stdout",
          "text": [
            "Epoch 1/100\n",
            "\u001b[1m12/12\u001b[0m \u001b[32m━━━━━━━━━━━━━━━━━━━━\u001b[0m\u001b[37m\u001b[0m \u001b[1m8s\u001b[0m 220ms/step - loss: 0.0435 - val_loss: 0.0398\n",
            "Epoch 2/100\n",
            "\u001b[1m12/12\u001b[0m \u001b[32m━━━━━━━━━━━━━━━━━━━━\u001b[0m\u001b[37m\u001b[0m \u001b[1m6s\u001b[0m 279ms/step - loss: 0.0045 - val_loss: 0.0041\n",
            "Epoch 3/100\n",
            "\u001b[1m12/12\u001b[0m \u001b[32m━━━━━━━━━━━━━━━━━━━━\u001b[0m\u001b[37m\u001b[0m \u001b[1m4s\u001b[0m 169ms/step - loss: 0.0014 - val_loss: 0.0038\n",
            "Epoch 4/100\n",
            "\u001b[1m12/12\u001b[0m \u001b[32m━━━━━━━━━━━━━━━━━━━━\u001b[0m\u001b[37m\u001b[0m \u001b[1m3s\u001b[0m 169ms/step - loss: 7.0419e-04 - val_loss: 0.0041\n",
            "Epoch 5/100\n",
            "\u001b[1m12/12\u001b[0m \u001b[32m━━━━━━━━━━━━━━━━━━━━\u001b[0m\u001b[37m\u001b[0m \u001b[1m3s\u001b[0m 167ms/step - loss: 6.3840e-04 - val_loss: 0.0046\n",
            "Epoch 6/100\n",
            "\u001b[1m12/12\u001b[0m \u001b[32m━━━━━━━━━━━━━━━━━━━━\u001b[0m\u001b[37m\u001b[0m \u001b[1m3s\u001b[0m 233ms/step - loss: 6.2060e-04 - val_loss: 0.0036\n",
            "Epoch 7/100\n",
            "\u001b[1m12/12\u001b[0m \u001b[32m━━━━━━━━━━━━━━━━━━━━\u001b[0m\u001b[37m\u001b[0m \u001b[1m4s\u001b[0m 164ms/step - loss: 6.0007e-04 - val_loss: 0.0036\n",
            "Epoch 8/100\n",
            "\u001b[1m12/12\u001b[0m \u001b[32m━━━━━━━━━━━━━━━━━━━━\u001b[0m\u001b[37m\u001b[0m \u001b[1m3s\u001b[0m 164ms/step - loss: 5.6240e-04 - val_loss: 0.0037\n",
            "Epoch 9/100\n",
            "\u001b[1m12/12\u001b[0m \u001b[32m━━━━━━━━━━━━━━━━━━━━\u001b[0m\u001b[37m\u001b[0m \u001b[1m3s\u001b[0m 170ms/step - loss: 5.5788e-04 - val_loss: 0.0034\n",
            "Epoch 10/100\n",
            "\u001b[1m12/12\u001b[0m \u001b[32m━━━━━━━━━━━━━━━━━━━━\u001b[0m\u001b[37m\u001b[0m \u001b[1m3s\u001b[0m 238ms/step - loss: 5.4686e-04 - val_loss: 0.0033\n",
            "Epoch 11/100\n",
            "\u001b[1m12/12\u001b[0m \u001b[32m━━━━━━━━━━━━━━━━━━━━\u001b[0m\u001b[37m\u001b[0m \u001b[1m4s\u001b[0m 168ms/step - loss: 5.7828e-04 - val_loss: 0.0034\n",
            "Epoch 12/100\n",
            "\u001b[1m12/12\u001b[0m \u001b[32m━━━━━━━━━━━━━━━━━━━━\u001b[0m\u001b[37m\u001b[0m \u001b[1m2s\u001b[0m 164ms/step - loss: 5.3854e-04 - val_loss: 0.0032\n",
            "Epoch 13/100\n",
            "\u001b[1m12/12\u001b[0m \u001b[32m━━━━━━━━━━━━━━━━━━━━\u001b[0m\u001b[37m\u001b[0m \u001b[1m3s\u001b[0m 166ms/step - loss: 5.5849e-04 - val_loss: 0.0032\n",
            "Epoch 14/100\n",
            "\u001b[1m12/12\u001b[0m \u001b[32m━━━━━━━━━━━━━━━━━━━━\u001b[0m\u001b[37m\u001b[0m \u001b[1m3s\u001b[0m 229ms/step - loss: 5.6954e-04 - val_loss: 0.0030\n",
            "Epoch 15/100\n",
            "\u001b[1m12/12\u001b[0m \u001b[32m━━━━━━━━━━━━━━━━━━━━\u001b[0m\u001b[37m\u001b[0m \u001b[1m4s\u001b[0m 165ms/step - loss: 5.3919e-04 - val_loss: 0.0030\n",
            "Epoch 16/100\n",
            "\u001b[1m12/12\u001b[0m \u001b[32m━━━━━━━━━━━━━━━━━━━━\u001b[0m\u001b[37m\u001b[0m \u001b[1m2s\u001b[0m 166ms/step - loss: 5.4427e-04 - val_loss: 0.0030\n",
            "Epoch 17/100\n",
            "\u001b[1m12/12\u001b[0m \u001b[32m━━━━━━━━━━━━━━━━━━━━\u001b[0m\u001b[37m\u001b[0m \u001b[1m3s\u001b[0m 164ms/step - loss: 5.2895e-04 - val_loss: 0.0030\n",
            "Epoch 18/100\n",
            "\u001b[1m12/12\u001b[0m \u001b[32m━━━━━━━━━━━━━━━━━━━━\u001b[0m\u001b[37m\u001b[0m \u001b[1m2s\u001b[0m 163ms/step - loss: 4.8721e-04 - val_loss: 0.0027\n",
            "Epoch 19/100\n",
            "\u001b[1m12/12\u001b[0m \u001b[32m━━━━━━━━━━━━━━━━━━━━\u001b[0m\u001b[37m\u001b[0m \u001b[1m3s\u001b[0m 275ms/step - loss: 4.9228e-04 - val_loss: 0.0026\n",
            "Epoch 20/100\n",
            "\u001b[1m12/12\u001b[0m \u001b[32m━━━━━━━━━━━━━━━━━━━━\u001b[0m\u001b[37m\u001b[0m \u001b[1m4s\u001b[0m 167ms/step - loss: 4.2684e-04 - val_loss: 0.0030\n",
            "Epoch 21/100\n",
            "\u001b[1m12/12\u001b[0m \u001b[32m━━━━━━━━━━━━━━━━━━━━\u001b[0m\u001b[37m\u001b[0m \u001b[1m3s\u001b[0m 166ms/step - loss: 4.8487e-04 - val_loss: 0.0026\n",
            "Epoch 22/100\n",
            "\u001b[1m12/12\u001b[0m \u001b[32m━━━━━━━━━━━━━━━━━━━━\u001b[0m\u001b[37m\u001b[0m \u001b[1m3s\u001b[0m 168ms/step - loss: 4.8576e-04 - val_loss: 0.0025\n",
            "Epoch 23/100\n",
            "\u001b[1m12/12\u001b[0m \u001b[32m━━━━━━━━━━━━━━━━━━━━\u001b[0m\u001b[37m\u001b[0m \u001b[1m3s\u001b[0m 222ms/step - loss: 4.7639e-04 - val_loss: 0.0026\n",
            "Epoch 24/100\n",
            "\u001b[1m12/12\u001b[0m \u001b[32m━━━━━━━━━━━━━━━━━━━━\u001b[0m\u001b[37m\u001b[0m \u001b[1m3s\u001b[0m 243ms/step - loss: 4.3083e-04 - val_loss: 0.0027\n",
            "Epoch 25/100\n",
            "\u001b[1m12/12\u001b[0m \u001b[32m━━━━━━━━━━━━━━━━━━━━\u001b[0m\u001b[37m\u001b[0m \u001b[1m2s\u001b[0m 166ms/step - loss: 4.4231e-04 - val_loss: 0.0028\n",
            "Epoch 26/100\n",
            "\u001b[1m12/12\u001b[0m \u001b[32m━━━━━━━━━━━━━━━━━━━━\u001b[0m\u001b[37m\u001b[0m \u001b[1m2s\u001b[0m 170ms/step - loss: 4.8484e-04 - val_loss: 0.0021\n",
            "Epoch 27/100\n",
            "\u001b[1m12/12\u001b[0m \u001b[32m━━━━━━━━━━━━━━━━━━━━\u001b[0m\u001b[37m\u001b[0m \u001b[1m3s\u001b[0m 172ms/step - loss: 4.5353e-04 - val_loss: 0.0024\n",
            "Epoch 28/100\n",
            "\u001b[1m12/12\u001b[0m \u001b[32m━━━━━━━━━━━━━━━━━━━━\u001b[0m\u001b[37m\u001b[0m \u001b[1m2s\u001b[0m 167ms/step - loss: 4.2553e-04 - val_loss: 0.0021\n",
            "Epoch 29/100\n",
            "\u001b[1m12/12\u001b[0m \u001b[32m━━━━━━━━━━━━━━━━━━━━\u001b[0m\u001b[37m\u001b[0m \u001b[1m3s\u001b[0m 278ms/step - loss: 4.1455e-04 - val_loss: 0.0043\n",
            "Epoch 30/100\n",
            "\u001b[1m12/12\u001b[0m \u001b[32m━━━━━━━━━━━━━━━━━━━━\u001b[0m\u001b[37m\u001b[0m \u001b[1m4s\u001b[0m 167ms/step - loss: 5.8099e-04 - val_loss: 0.0018\n",
            "Epoch 31/100\n",
            "\u001b[1m12/12\u001b[0m \u001b[32m━━━━━━━━━━━━━━━━━━━━\u001b[0m\u001b[37m\u001b[0m \u001b[1m3s\u001b[0m 165ms/step - loss: 4.1272e-04 - val_loss: 0.0019\n",
            "Epoch 32/100\n",
            "\u001b[1m12/12\u001b[0m \u001b[32m━━━━━━━━━━━━━━━━━━━━\u001b[0m\u001b[37m\u001b[0m \u001b[1m2s\u001b[0m 166ms/step - loss: 3.7482e-04 - val_loss: 0.0017\n",
            "Epoch 33/100\n",
            "\u001b[1m12/12\u001b[0m \u001b[32m━━━━━━━━━━━━━━━━━━━━\u001b[0m\u001b[37m\u001b[0m \u001b[1m3s\u001b[0m 200ms/step - loss: 4.1868e-04 - val_loss: 0.0017\n",
            "Epoch 34/100\n",
            "\u001b[1m12/12\u001b[0m \u001b[32m━━━━━━━━━━━━━━━━━━━━\u001b[0m\u001b[37m\u001b[0m \u001b[1m3s\u001b[0m 249ms/step - loss: 4.5741e-04 - val_loss: 0.0026\n",
            "Epoch 35/100\n",
            "\u001b[1m12/12\u001b[0m \u001b[32m━━━━━━━━━━━━━━━━━━━━\u001b[0m\u001b[37m\u001b[0m \u001b[1m4s\u001b[0m 164ms/step - loss: 4.0786e-04 - val_loss: 0.0018\n",
            "Epoch 36/100\n",
            "\u001b[1m12/12\u001b[0m \u001b[32m━━━━━━━━━━━━━━━━━━━━\u001b[0m\u001b[37m\u001b[0m \u001b[1m3s\u001b[0m 171ms/step - loss: 3.8496e-04 - val_loss: 0.0022\n",
            "Epoch 37/100\n",
            "\u001b[1m12/12\u001b[0m \u001b[32m━━━━━━━━━━━━━━━━━━━━\u001b[0m\u001b[37m\u001b[0m \u001b[1m3s\u001b[0m 169ms/step - loss: 4.0392e-04 - val_loss: 0.0016\n",
            "Epoch 38/100\n",
            "\u001b[1m12/12\u001b[0m \u001b[32m━━━━━━━━━━━━━━━━━━━━\u001b[0m\u001b[37m\u001b[0m \u001b[1m4s\u001b[0m 259ms/step - loss: 3.9226e-04 - val_loss: 0.0026\n",
            "Epoch 39/100\n",
            "\u001b[1m12/12\u001b[0m \u001b[32m━━━━━━━━━━━━━━━━━━━━\u001b[0m\u001b[37m\u001b[0m \u001b[1m4s\u001b[0m 170ms/step - loss: 3.8591e-04 - val_loss: 0.0015\n",
            "Epoch 40/100\n",
            "\u001b[1m12/12\u001b[0m \u001b[32m━━━━━━━━━━━━━━━━━━━━\u001b[0m\u001b[37m\u001b[0m \u001b[1m2s\u001b[0m 171ms/step - loss: 3.4227e-04 - val_loss: 0.0020\n",
            "Epoch 41/100\n",
            "\u001b[1m12/12\u001b[0m \u001b[32m━━━━━━━━━━━━━━━━━━━━\u001b[0m\u001b[37m\u001b[0m \u001b[1m3s\u001b[0m 170ms/step - loss: 3.9290e-04 - val_loss: 0.0018\n",
            "Epoch 42/100\n",
            "\u001b[1m12/12\u001b[0m \u001b[32m━━━━━━━━━━━━━━━━━━━━\u001b[0m\u001b[37m\u001b[0m \u001b[1m4s\u001b[0m 258ms/step - loss: 3.4225e-04 - val_loss: 0.0015\n",
            "Epoch 43/100\n",
            "\u001b[1m12/12\u001b[0m \u001b[32m━━━━━━━━━━━━━━━━━━━━\u001b[0m\u001b[37m\u001b[0m \u001b[1m2s\u001b[0m 196ms/step - loss: 3.4600e-04 - val_loss: 0.0025\n",
            "Epoch 44/100\n",
            "\u001b[1m12/12\u001b[0m \u001b[32m━━━━━━━━━━━━━━━━━━━━\u001b[0m\u001b[37m\u001b[0m \u001b[1m2s\u001b[0m 169ms/step - loss: 3.3432e-04 - val_loss: 0.0019\n",
            "Epoch 45/100\n",
            "\u001b[1m12/12\u001b[0m \u001b[32m━━━━━━━━━━━━━━━━━━━━\u001b[0m\u001b[37m\u001b[0m \u001b[1m3s\u001b[0m 169ms/step - loss: 3.2412e-04 - val_loss: 0.0019\n",
            "Epoch 46/100\n",
            "\u001b[1m12/12\u001b[0m \u001b[32m━━━━━━━━━━━━━━━━━━━━\u001b[0m\u001b[37m\u001b[0m \u001b[1m3s\u001b[0m 170ms/step - loss: 3.4545e-04 - val_loss: 0.0015\n",
            "Epoch 47/100\n",
            "\u001b[1m12/12\u001b[0m \u001b[32m━━━━━━━━━━━━━━━━━━━━\u001b[0m\u001b[37m\u001b[0m \u001b[1m2s\u001b[0m 206ms/step - loss: 3.1669e-04 - val_loss: 0.0014\n",
            "Epoch 48/100\n",
            "\u001b[1m12/12\u001b[0m \u001b[32m━━━━━━━━━━━━━━━━━━━━\u001b[0m\u001b[37m\u001b[0m \u001b[1m3s\u001b[0m 247ms/step - loss: 3.3655e-04 - val_loss: 0.0044\n",
            "Epoch 49/100\n",
            "\u001b[1m12/12\u001b[0m \u001b[32m━━━━━━━━━━━━━━━━━━━━\u001b[0m\u001b[37m\u001b[0m \u001b[1m2s\u001b[0m 175ms/step - loss: 4.3538e-04 - val_loss: 0.0019\n",
            "Epoch 50/100\n",
            "\u001b[1m12/12\u001b[0m \u001b[32m━━━━━━━━━━━━━━━━━━━━\u001b[0m\u001b[37m\u001b[0m \u001b[1m2s\u001b[0m 168ms/step - loss: 4.5088e-04 - val_loss: 0.0042\n",
            "Epoch 51/100\n",
            "\u001b[1m12/12\u001b[0m \u001b[32m━━━━━━━━━━━━━━━━━━━━\u001b[0m\u001b[37m\u001b[0m \u001b[1m3s\u001b[0m 167ms/step - loss: 4.0278e-04 - val_loss: 0.0014\n",
            "Epoch 52/100\n",
            "\u001b[1m12/12\u001b[0m \u001b[32m━━━━━━━━━━━━━━━━━━━━\u001b[0m\u001b[37m\u001b[0m \u001b[1m3s\u001b[0m 174ms/step - loss: 3.7592e-04 - val_loss: 0.0026\n",
            "Epoch 53/100\n",
            "\u001b[1m12/12\u001b[0m \u001b[32m━━━━━━━━━━━━━━━━━━━━\u001b[0m\u001b[37m\u001b[0m \u001b[1m4s\u001b[0m 297ms/step - loss: 3.3813e-04 - val_loss: 0.0014\n",
            "Epoch 54/100\n",
            "\u001b[1m12/12\u001b[0m \u001b[32m━━━━━━━━━━━━━━━━━━━━\u001b[0m\u001b[37m\u001b[0m \u001b[1m2s\u001b[0m 177ms/step - loss: 2.9824e-04 - val_loss: 0.0035\n",
            "Epoch 55/100\n",
            "\u001b[1m12/12\u001b[0m \u001b[32m━━━━━━━━━━━━━━━━━━━━\u001b[0m\u001b[37m\u001b[0m \u001b[1m2s\u001b[0m 172ms/step - loss: 4.0099e-04 - val_loss: 0.0014\n",
            "Epoch 56/100\n",
            "\u001b[1m12/12\u001b[0m \u001b[32m━━━━━━━━━━━━━━━━━━━━\u001b[0m\u001b[37m\u001b[0m \u001b[1m2s\u001b[0m 175ms/step - loss: 3.3208e-04 - val_loss: 0.0024\n",
            "Epoch 57/100\n",
            "\u001b[1m12/12\u001b[0m \u001b[32m━━━━━━━━━━━━━━━━━━━━\u001b[0m\u001b[37m\u001b[0m \u001b[1m2s\u001b[0m 180ms/step - loss: 2.8983e-04 - val_loss: 0.0016\n",
            "Epoch 58/100\n",
            "\u001b[1m12/12\u001b[0m \u001b[32m━━━━━━━━━━━━━━━━━━━━\u001b[0m\u001b[37m\u001b[0m \u001b[1m3s\u001b[0m 264ms/step - loss: 2.5014e-04 - val_loss: 0.0014\n",
            "Epoch 59/100\n",
            "\u001b[1m12/12\u001b[0m \u001b[32m━━━━━━━━━━━━━━━━━━━━\u001b[0m\u001b[37m\u001b[0m \u001b[1m3s\u001b[0m 235ms/step - loss: 2.6282e-04 - val_loss: 0.0016\n",
            "Epoch 60/100\n",
            "\u001b[1m12/12\u001b[0m \u001b[32m━━━━━━━━━━━━━━━━━━━━\u001b[0m\u001b[37m\u001b[0m \u001b[1m2s\u001b[0m 176ms/step - loss: 2.5203e-04 - val_loss: 0.0020\n",
            "Epoch 61/100\n",
            "\u001b[1m12/12\u001b[0m \u001b[32m━━━━━━━━━━━━━━━━━━━━\u001b[0m\u001b[37m\u001b[0m \u001b[1m2s\u001b[0m 176ms/step - loss: 2.8524e-04 - val_loss: 0.0016\n",
            "Epoch 62/100\n",
            "\u001b[1m12/12\u001b[0m \u001b[32m━━━━━━━━━━━━━━━━━━━━\u001b[0m\u001b[37m\u001b[0m \u001b[1m2s\u001b[0m 172ms/step - loss: 2.5196e-04 - val_loss: 0.0014\n",
            "Epoch 63/100\n",
            "\u001b[1m12/12\u001b[0m \u001b[32m━━━━━━━━━━━━━━━━━━━━\u001b[0m\u001b[37m\u001b[0m \u001b[1m3s\u001b[0m 176ms/step - loss: 3.6185e-04 - val_loss: 0.0027\n",
            "Epoch 64/100\n",
            "\u001b[1m12/12\u001b[0m \u001b[32m━━━━━━━━━━━━━━━━━━━━\u001b[0m\u001b[37m\u001b[0m \u001b[1m3s\u001b[0m 288ms/step - loss: 2.9383e-04 - val_loss: 0.0017\n",
            "Epoch 65/100\n",
            "\u001b[1m12/12\u001b[0m \u001b[32m━━━━━━━━━━━━━━━━━━━━\u001b[0m\u001b[37m\u001b[0m \u001b[1m4s\u001b[0m 171ms/step - loss: 2.3946e-04 - val_loss: 0.0014\n",
            "Epoch 66/100\n",
            "\u001b[1m12/12\u001b[0m \u001b[32m━━━━━━━━━━━━━━━━━━━━\u001b[0m\u001b[37m\u001b[0m \u001b[1m2s\u001b[0m 167ms/step - loss: 2.3806e-04 - val_loss: 0.0016\n",
            "Epoch 67/100\n",
            "\u001b[1m12/12\u001b[0m \u001b[32m━━━━━━━━━━━━━━━━━━━━\u001b[0m\u001b[37m\u001b[0m \u001b[1m3s\u001b[0m 174ms/step - loss: 2.0957e-04 - val_loss: 0.0012\n",
            "Epoch 68/100\n",
            "\u001b[1m12/12\u001b[0m \u001b[32m━━━━━━━━━━━━━━━━━━━━\u001b[0m\u001b[37m\u001b[0m \u001b[1m2s\u001b[0m 185ms/step - loss: 2.6869e-04 - val_loss: 0.0020\n",
            "Epoch 69/100\n",
            "\u001b[1m12/12\u001b[0m \u001b[32m━━━━━━━━━━━━━━━━━━━━\u001b[0m\u001b[37m\u001b[0m \u001b[1m4s\u001b[0m 331ms/step - loss: 2.6020e-04 - val_loss: 0.0012\n",
            "Epoch 70/100\n",
            "\u001b[1m12/12\u001b[0m \u001b[32m━━━━━━━━━━━━━━━━━━━━\u001b[0m\u001b[37m\u001b[0m \u001b[1m2s\u001b[0m 172ms/step - loss: 2.5599e-04 - val_loss: 0.0016\n",
            "Epoch 71/100\n",
            "\u001b[1m12/12\u001b[0m \u001b[32m━━━━━━━━━━━━━━━━━━━━\u001b[0m\u001b[37m\u001b[0m \u001b[1m2s\u001b[0m 168ms/step - loss: 2.2138e-04 - val_loss: 0.0013\n",
            "Epoch 72/100\n",
            "\u001b[1m12/12\u001b[0m \u001b[32m━━━━━━━━━━━━━━━━━━━━\u001b[0m\u001b[37m\u001b[0m \u001b[1m3s\u001b[0m 170ms/step - loss: 2.5608e-04 - val_loss: 0.0012\n",
            "Epoch 73/100\n",
            "\u001b[1m12/12\u001b[0m \u001b[32m━━━━━━━━━━━━━━━━━━━━\u001b[0m\u001b[37m\u001b[0m \u001b[1m3s\u001b[0m 175ms/step - loss: 2.2337e-04 - val_loss: 0.0012\n",
            "Epoch 74/100\n",
            "\u001b[1m12/12\u001b[0m \u001b[32m━━━━━━━━━━━━━━━━━━━━\u001b[0m\u001b[37m\u001b[0m \u001b[1m4s\u001b[0m 327ms/step - loss: 2.0706e-04 - val_loss: 0.0016\n",
            "Epoch 75/100\n",
            "\u001b[1m12/12\u001b[0m \u001b[32m━━━━━━━━━━━━━━━━━━━━\u001b[0m\u001b[37m\u001b[0m \u001b[1m4s\u001b[0m 202ms/step - loss: 2.0355e-04 - val_loss: 0.0011\n",
            "Epoch 76/100\n",
            "\u001b[1m12/12\u001b[0m \u001b[32m━━━━━━━━━━━━━━━━━━━━\u001b[0m\u001b[37m\u001b[0m \u001b[1m3s\u001b[0m 203ms/step - loss: 2.0943e-04 - val_loss: 0.0017\n",
            "Epoch 77/100\n",
            "\u001b[1m12/12\u001b[0m \u001b[32m━━━━━━━━━━━━━━━━━━━━\u001b[0m\u001b[37m\u001b[0m \u001b[1m6s\u001b[0m 293ms/step - loss: 2.1705e-04 - val_loss: 0.0011\n",
            "Epoch 78/100\n",
            "\u001b[1m12/12\u001b[0m \u001b[32m━━━━━━━━━━━━━━━━━━━━\u001b[0m\u001b[37m\u001b[0m \u001b[1m4s\u001b[0m 189ms/step - loss: 1.9643e-04 - val_loss: 0.0012\n",
            "Epoch 79/100\n",
            "\u001b[1m12/12\u001b[0m \u001b[32m━━━━━━━━━━━━━━━━━━━━\u001b[0m\u001b[37m\u001b[0m \u001b[1m3s\u001b[0m 192ms/step - loss: 1.9224e-04 - val_loss: 0.0024\n",
            "Epoch 80/100\n",
            "\u001b[1m12/12\u001b[0m \u001b[32m━━━━━━━━━━━━━━━━━━━━\u001b[0m\u001b[37m\u001b[0m \u001b[1m2s\u001b[0m 168ms/step - loss: 2.5734e-04 - val_loss: 0.0012\n",
            "Epoch 81/100\n",
            "\u001b[1m12/12\u001b[0m \u001b[32m━━━━━━━━━━━━━━━━━━━━\u001b[0m\u001b[37m\u001b[0m \u001b[1m2s\u001b[0m 167ms/step - loss: 2.3174e-04 - val_loss: 0.0012\n",
            "Epoch 82/100\n",
            "\u001b[1m12/12\u001b[0m \u001b[32m━━━━━━━━━━━━━━━━━━━━\u001b[0m\u001b[37m\u001b[0m \u001b[1m3s\u001b[0m 276ms/step - loss: 1.7946e-04 - val_loss: 0.0011\n",
            "Epoch 83/100\n",
            "\u001b[1m12/12\u001b[0m \u001b[32m━━━━━━━━━━━━━━━━━━━━\u001b[0m\u001b[37m\u001b[0m \u001b[1m4s\u001b[0m 167ms/step - loss: 2.8806e-04 - val_loss: 0.0014\n",
            "Epoch 84/100\n",
            "\u001b[1m12/12\u001b[0m \u001b[32m━━━━━━━━━━━━━━━━━━━━\u001b[0m\u001b[37m\u001b[0m \u001b[1m2s\u001b[0m 167ms/step - loss: 2.0697e-04 - val_loss: 0.0015\n",
            "Epoch 85/100\n",
            "\u001b[1m12/12\u001b[0m \u001b[32m━━━━━━━━━━━━━━━━━━━━\u001b[0m\u001b[37m\u001b[0m \u001b[1m3s\u001b[0m 165ms/step - loss: 1.9026e-04 - val_loss: 0.0011\n",
            "Epoch 86/100\n",
            "\u001b[1m12/12\u001b[0m \u001b[32m━━━━━━━━━━━━━━━━━━━━\u001b[0m\u001b[37m\u001b[0m \u001b[1m3s\u001b[0m 196ms/step - loss: 1.6983e-04 - val_loss: 0.0012\n",
            "Epoch 87/100\n",
            "\u001b[1m12/12\u001b[0m \u001b[32m━━━━━━━━━━━━━━━━━━━━\u001b[0m\u001b[37m\u001b[0m \u001b[1m3s\u001b[0m 257ms/step - loss: 1.7470e-04 - val_loss: 0.0010\n",
            "Epoch 88/100\n",
            "\u001b[1m12/12\u001b[0m \u001b[32m━━━━━━━━━━━━━━━━━━━━\u001b[0m\u001b[37m\u001b[0m \u001b[1m4s\u001b[0m 167ms/step - loss: 1.9946e-04 - val_loss: 9.6186e-04\n",
            "Epoch 89/100\n",
            "\u001b[1m12/12\u001b[0m \u001b[32m━━━━━━━━━━━━━━━━━━━━\u001b[0m\u001b[37m\u001b[0m \u001b[1m3s\u001b[0m 167ms/step - loss: 1.7114e-04 - val_loss: 9.5041e-04\n",
            "Epoch 90/100\n",
            "\u001b[1m12/12\u001b[0m \u001b[32m━━━━━━━━━━━━━━━━━━━━\u001b[0m\u001b[37m\u001b[0m \u001b[1m3s\u001b[0m 169ms/step - loss: 2.0821e-04 - val_loss: 0.0012\n",
            "Epoch 91/100\n",
            "\u001b[1m12/12\u001b[0m \u001b[32m━━━━━━━━━━━━━━━━━━━━\u001b[0m\u001b[37m\u001b[0m \u001b[1m3s\u001b[0m 264ms/step - loss: 1.5835e-04 - val_loss: 9.3465e-04\n",
            "Epoch 92/100\n",
            "\u001b[1m12/12\u001b[0m \u001b[32m━━━━━━━━━━━━━━━━━━━━\u001b[0m\u001b[37m\u001b[0m \u001b[1m2s\u001b[0m 175ms/step - loss: 1.8446e-04 - val_loss: 9.1426e-04\n",
            "Epoch 93/100\n",
            "\u001b[1m12/12\u001b[0m \u001b[32m━━━━━━━━━━━━━━━━━━━━\u001b[0m\u001b[37m\u001b[0m \u001b[1m2s\u001b[0m 164ms/step - loss: 1.5675e-04 - val_loss: 9.3696e-04\n",
            "Epoch 94/100\n",
            "\u001b[1m12/12\u001b[0m \u001b[32m━━━━━━━━━━━━━━━━━━━━\u001b[0m\u001b[37m\u001b[0m \u001b[1m2s\u001b[0m 163ms/step - loss: 1.5148e-04 - val_loss: 9.1085e-04\n",
            "Epoch 95/100\n",
            "\u001b[1m12/12\u001b[0m \u001b[32m━━━━━━━━━━━━━━━━━━━━\u001b[0m\u001b[37m\u001b[0m \u001b[1m2s\u001b[0m 167ms/step - loss: 1.6974e-04 - val_loss: 9.5845e-04\n",
            "Epoch 96/100\n",
            "\u001b[1m12/12\u001b[0m \u001b[32m━━━━━━━━━━━━━━━━━━━━\u001b[0m\u001b[37m\u001b[0m \u001b[1m2s\u001b[0m 168ms/step - loss: 1.5932e-04 - val_loss: 0.0012\n",
            "Epoch 97/100\n",
            "\u001b[1m12/12\u001b[0m \u001b[32m━━━━━━━━━━━━━━━━━━━━\u001b[0m\u001b[37m\u001b[0m \u001b[1m4s\u001b[0m 266ms/step - loss: 1.7905e-04 - val_loss: 9.7085e-04\n",
            "Epoch 98/100\n",
            "\u001b[1m12/12\u001b[0m \u001b[32m━━━━━━━━━━━━━━━━━━━━\u001b[0m\u001b[37m\u001b[0m \u001b[1m2s\u001b[0m 168ms/step - loss: 1.6550e-04 - val_loss: 0.0010\n",
            "Epoch 99/100\n",
            "\u001b[1m12/12\u001b[0m \u001b[32m━━━━━━━━━━━━━━━━━━━━\u001b[0m\u001b[37m\u001b[0m \u001b[1m2s\u001b[0m 166ms/step - loss: 1.6435e-04 - val_loss: 0.0010\n",
            "Epoch 100/100\n",
            "\u001b[1m12/12\u001b[0m \u001b[32m━━━━━━━━━━━━━━━━━━━━\u001b[0m\u001b[37m\u001b[0m \u001b[1m3s\u001b[0m 170ms/step - loss: 1.8136e-04 - val_loss: 9.0712e-04\n"
          ]
        },
        {
          "output_type": "execute_result",
          "data": {
            "text/plain": [
              "<keras.src.callbacks.history.History at 0x7e8e383d2c80>"
            ]
          },
          "metadata": {},
          "execution_count": 16
        }
      ]
    },
    {
      "cell_type": "code",
      "source": [
        "import tensorflow as tf\n",
        "### Lets Do the prediction and check performance metrics\n",
        "train_predict=model.predict(X_train)\n",
        "test_predict=model.predict(X_test)"
      ],
      "metadata": {
        "colab": {
          "base_uri": "https://localhost:8080/"
        },
        "id": "nsu0q-CKq-G3",
        "outputId": "1afaeb89-8e79-4523-876d-79e82f26e379"
      },
      "execution_count": 17,
      "outputs": [
        {
          "output_type": "stream",
          "name": "stdout",
          "text": [
            "\u001b[1m23/23\u001b[0m \u001b[32m━━━━━━━━━━━━━━━━━━━━\u001b[0m\u001b[37m\u001b[0m \u001b[1m4s\u001b[0m 142ms/step\n",
            "\u001b[1m11/11\u001b[0m \u001b[32m━━━━━━━━━━━━━━━━━━━━\u001b[0m\u001b[37m\u001b[0m \u001b[1m0s\u001b[0m 35ms/step\n"
          ]
        }
      ]
    },
    {
      "cell_type": "code",
      "source": [
        "##Transformback to original form\n",
        "train_predict=scaler.inverse_transform(train_predict)\n",
        "test_predict=scaler.inverse_transform(test_predict)"
      ],
      "metadata": {
        "id": "j6GW6sPjrCsT"
      },
      "execution_count": 18,
      "outputs": []
    },
    {
      "cell_type": "code",
      "source": [
        "### Calculate RMSE performance metrics\n",
        "import math\n",
        "from sklearn.metrics import mean_squared_error\n",
        "math.sqrt(mean_squared_error(y_train,train_predict))"
      ],
      "metadata": {
        "colab": {
          "base_uri": "https://localhost:8080/"
        },
        "id": "d0riDJCirKIY",
        "outputId": "d742437f-57f0-4148-f21e-8dfcf3a7a0dd"
      },
      "execution_count": 19,
      "outputs": [
        {
          "output_type": "execute_result",
          "data": {
            "text/plain": [
              "143.28801855342877"
            ]
          },
          "metadata": {},
          "execution_count": 19
        }
      ]
    },
    {
      "cell_type": "code",
      "source": [
        "### Test Data RMSE\n",
        "math.sqrt(mean_squared_error(ytest,test_predict))"
      ],
      "metadata": {
        "colab": {
          "base_uri": "https://localhost:8080/"
        },
        "id": "aoMnVKgfrOHD",
        "outputId": "56f87891-36ca-45d8-ecd9-628f58c22b2a"
      },
      "execution_count": 20,
      "outputs": [
        {
          "output_type": "execute_result",
          "data": {
            "text/plain": [
              "239.90612690442947"
            ]
          },
          "metadata": {},
          "execution_count": 20
        }
      ]
    },
    {
      "cell_type": "code",
      "source": [
        "### Plotting\n",
        "# shift train predictions for plotting\n",
        "look_back=100\n",
        "trainPredictPlot = numpy.empty_like(df1)\n",
        "trainPredictPlot[:, :] = np.nan\n",
        "trainPredictPlot[look_back:len(train_predict)+look_back, :] = train_predict\n",
        "# shift test predictions for plotting\n",
        "testPredictPlot = numpy.empty_like(df1)\n",
        "testPredictPlot[:, :] = numpy.nan\n",
        "testPredictPlot[len(train_predict)+(look_back*2)+1:len(df1)-1, :] = test_predict\n",
        "# plot baseline and predictions\n",
        "plt.plot(scaler.inverse_transform(df1))\n",
        "plt.plot(trainPredictPlot)\n",
        "plt.plot(testPredictPlot)\n",
        "plt.show()\n"
      ],
      "metadata": {
        "colab": {
          "base_uri": "https://localhost:8080/",
          "height": 430
        },
        "id": "Ys5ck_Xyrfcd",
        "outputId": "4f971136-0d55-4342-d5da-85df80603122"
      },
      "execution_count": 21,
      "outputs": [
        {
          "output_type": "display_data",
          "data": {
            "text/plain": [
              "<Figure size 640x480 with 1 Axes>"
            ],
            "image/png": "[encoded data removed]"
          },
          "metadata": {}
        }
      ]
    },
    {
      "cell_type": "markdown",
      "source": [
        "- How to make predictions for the next 10 days using a trained model in a time series forecasting scenario.\n",
        "- The code is designed to iteratively predict the next day's value based on the previous n_steps days of data.\n",
        "- It handles the initial cases where there may not be enough data to fill the full n_steps by using the available data.\n",
        "- Once sufficient data is accumulated, it continuously updates temp_input by removing the oldest data point and adding the newest prediction.\n",
        "- This approach is useful for rolling predictions in time series forecasting, where each new prediction is based on the most recent data available."
      ],
      "metadata": {
        "id": "BKH5RYAcvTK4"
      }
    },
    {
      "cell_type": "code",
      "source": [
        "x_input=test_data[341:].reshape(1,-1)\n",
        "x_input.shape"
      ],
      "metadata": {
        "colab": {
          "base_uri": "https://localhost:8080/"
        },
        "id": "5d4H8UkxxGDp",
        "outputId": "2ce672ac-af62-4438-d294-7be04ebe2867"
      },
      "execution_count": 23,
      "outputs": [
        {
          "output_type": "execute_result",
          "data": {
            "text/plain": [
              "(1, 100)"
            ]
          },
          "metadata": {},
          "execution_count": 23
        }
      ]
    },
    {
      "cell_type": "code",
      "source": [
        "temp_input=list(x_input)\n",
        "temp_input=temp_input[0].tolist()"
      ],
      "metadata": {
        "id": "VUWmRdYLxHEL"
      },
      "execution_count": 24,
      "outputs": []
    },
    {
      "cell_type": "code",
      "source": [
        "len(temp_input)"
      ],
      "metadata": {
        "colab": {
          "base_uri": "https://localhost:8080/"
        },
        "id": "pq8NvRPYxUBm",
        "outputId": "b62b6cad-42f3-4ae2-a853-9d86b999ec2b"
      },
      "execution_count": 27,
      "outputs": [
        {
          "output_type": "execute_result",
          "data": {
            "text/plain": [
              "101"
            ]
          },
          "metadata": {},
          "execution_count": 27
        }
      ]
    },
    {
      "cell_type": "code",
      "source": [
        "# demonstrate prediction for next 10 days\n",
        "from numpy import array\n",
        "\n",
        "lst_output=[]\n",
        "n_steps=100\n",
        "i=0\n",
        "while(i<30):\n",
        "\n",
        "    if(len(temp_input)>100):\n",
        "        #print(temp_input)\n",
        "        x_input=np.array(temp_input[1:])\n",
        "        print(\"{} day input {}\".format(i,x_input))\n",
        "        x_input=x_input.reshape(1,-1)\n",
        "        x_input = x_input.reshape((1, n_steps, 1))\n",
        "        #print(x_input)\n",
        "        yhat = model.predict(x_input, verbose=0)\n",
        "        print(\"{} day output {}\".format(i,yhat))\n",
        "        temp_input.extend(yhat[0].tolist())\n",
        "        temp_input=temp_input[1:]\n",
        "        #print(temp_input)\n",
        "        lst_output.extend(yhat.tolist())\n",
        "        i=i+1\n",
        "    else:\n",
        "        x_input = x_input.reshape((1, n_steps,1))\n",
        "        yhat = model.predict(x_input, verbose=0)\n",
        "        print(yhat[0])\n",
        "        temp_input.extend(yhat[0].tolist())\n",
        "        print(len(temp_input))\n",
        "        lst_output.extend(yhat.tolist())\n",
        "        i=i+1\n",
        "\n",
        "\n",
        "print(lst_output)"
      ],
      "metadata": {
        "colab": {
          "base_uri": "https://localhost:8080/"
        },
        "id": "mzkp0fNCrqJW",
        "outputId": "537abbda-694b-4764-826d-642e1ad3a988"
      },
      "execution_count": 25,
      "outputs": [
        {
          "output_type": "stream",
          "name": "stdout",
          "text": [
            "[0.963764]\n",
            "101\n",
            "1 day input [0.8866419  0.87431394 0.88431985 0.87836697 0.8986321  0.92582116\n",
            " 0.92877649 0.95676771 0.93869797 0.93304061 0.94950604 0.96424048\n",
            " 0.95512117 0.95989192 0.96635143 0.96246728 0.92295027 0.9598497\n",
            " 0.98792536 0.98594106 0.92531453 0.92172591 0.96474711 0.97572406\n",
            " 0.99159841 0.96972895 0.97614625 0.96795575 1.         0.99016297\n",
            " 0.99050072 0.96538039 0.98488559 0.97086887 0.94026007 0.87748037\n",
            " 0.83483915 0.85413324 0.77336823 0.77269273 0.88014017 0.84007431\n",
            " 0.89673225 0.85527316 0.83884995 0.74233725 0.82327113 0.78143207\n",
            " 0.6665963  0.7921557  0.64118044 0.68614371 0.66001013 0.65203074\n",
            " 0.58642236 0.56586169 0.66089673 0.65515494 0.70970193 0.66452757\n",
            " 0.69437642 0.69218104 0.63569197 0.65266402 0.63780292 0.7267162\n",
            " 0.71388162 0.74191506 0.75002111 0.77222832 0.83049059 0.8194292\n",
            " 0.8289707  0.8125475  0.78776492 0.75162543 0.78426074 0.77974331\n",
            " 0.81326522 0.8141096  0.79473106 0.83336148 0.85898843 0.83901883\n",
            " 0.85628641 0.87486279 0.88782403 0.90095415 0.92793211 0.948535\n",
            " 0.93333615 0.91746179 0.92544119 0.91771511 0.9483239  0.94064004\n",
            " 0.96635143 0.9563033  0.96491598 0.96376401]\n",
            "1 day output [[0.96616095]]\n",
            "2 day input [0.87431394 0.88431985 0.87836697 0.8986321  0.92582116 0.92877649\n",
            " 0.95676771 0.93869797 0.93304061 0.94950604 0.96424048 0.95512117\n",
            " 0.95989192 0.96635143 0.96246728 0.92295027 0.9598497  0.98792536\n",
            " 0.98594106 0.92531453 0.92172591 0.96474711 0.97572406 0.99159841\n",
            " 0.96972895 0.97614625 0.96795575 1.         0.99016297 0.99050072\n",
            " 0.96538039 0.98488559 0.97086887 0.94026007 0.87748037 0.83483915\n",
            " 0.85413324 0.77336823 0.77269273 0.88014017 0.84007431 0.89673225\n",
            " 0.85527316 0.83884995 0.74233725 0.82327113 0.78143207 0.6665963\n",
            " 0.7921557  0.64118044 0.68614371 0.66001013 0.65203074 0.58642236\n",
            " 0.56586169 0.66089673 0.65515494 0.70970193 0.66452757 0.69437642\n",
            " 0.69218104 0.63569197 0.65266402 0.63780292 0.7267162  0.71388162\n",
            " 0.74191506 0.75002111 0.77222832 0.83049059 0.8194292  0.8289707\n",
            " 0.8125475  0.78776492 0.75162543 0.78426074 0.77974331 0.81326522\n",
            " 0.8141096  0.79473106 0.83336148 0.85898843 0.83901883 0.85628641\n",
            " 0.87486279 0.88782403 0.90095415 0.92793211 0.948535   0.93333615\n",
            " 0.91746179 0.92544119 0.91771511 0.9483239  0.94064004 0.96635143\n",
            " 0.9563033  0.96491598 0.96376401 0.96616095]\n",
            "2 day output [[0.9666768]]\n",
            "3 day input [0.88431985 0.87836697 0.8986321  0.92582116 0.92877649 0.95676771\n",
            " 0.93869797 0.93304061 0.94950604 0.96424048 0.95512117 0.95989192\n",
            " 0.96635143 0.96246728 0.92295027 0.9598497  0.98792536 0.98594106\n",
            " 0.92531453 0.92172591 0.96474711 0.97572406 0.99159841 0.96972895\n",
            " 0.97614625 0.96795575 1.         0.99016297 0.99050072 0.96538039\n",
            " 0.98488559 0.97086887 0.94026007 0.87748037 0.83483915 0.85413324\n",
            " 0.77336823 0.77269273 0.88014017 0.84007431 0.89673225 0.85527316\n",
            " 0.83884995 0.74233725 0.82327113 0.78143207 0.6665963  0.7921557\n",
            " 0.64118044 0.68614371 0.66001013 0.65203074 0.58642236 0.56586169\n",
            " 0.66089673 0.65515494 0.70970193 0.66452757 0.69437642 0.69218104\n",
            " 0.63569197 0.65266402 0.63780292 0.7267162  0.71388162 0.74191506\n",
            " 0.75002111 0.77222832 0.83049059 0.8194292  0.8289707  0.8125475\n",
            " 0.78776492 0.75162543 0.78426074 0.77974331 0.81326522 0.8141096\n",
            " 0.79473106 0.83336148 0.85898843 0.83901883 0.85628641 0.87486279\n",
            " 0.88782403 0.90095415 0.92793211 0.948535   0.93333615 0.91746179\n",
            " 0.92544119 0.91771511 0.9483239  0.94064004 0.96635143 0.9563033\n",
            " 0.96491598 0.96376401 0.96616095 0.96667677]\n",
            "3 day output [[0.9665354]]\n",
            "4 day input [0.87836697 0.8986321  0.92582116 0.92877649 0.95676771 0.93869797\n",
            " 0.93304061 0.94950604 0.96424048 0.95512117 0.95989192 0.96635143\n",
            " 0.96246728 0.92295027 0.9598497  0.98792536 0.98594106 0.92531453\n",
            " 0.92172591 0.96474711 0.97572406 0.99159841 0.96972895 0.97614625\n",
            " 0.96795575 1.         0.99016297 0.99050072 0.96538039 0.98488559\n",
            " 0.97086887 0.94026007 0.87748037 0.83483915 0.85413324 0.77336823\n",
            " 0.77269273 0.88014017 0.84007431 0.89673225 0.85527316 0.83884995\n",
            " 0.74233725 0.82327113 0.78143207 0.6665963  0.7921557  0.64118044\n",
            " 0.68614371 0.66001013 0.65203074 0.58642236 0.56586169 0.66089673\n",
            " 0.65515494 0.70970193 0.66452757 0.69437642 0.69218104 0.63569197\n",
            " 0.65266402 0.63780292 0.7267162  0.71388162 0.74191506 0.75002111\n",
            " 0.77222832 0.83049059 0.8194292  0.8289707  0.8125475  0.78776492\n",
            " 0.75162543 0.78426074 0.77974331 0.81326522 0.8141096  0.79473106\n",
            " 0.83336148 0.85898843 0.83901883 0.85628641 0.87486279 0.88782403\n",
            " 0.90095415 0.92793211 0.948535   0.93333615 0.91746179 0.92544119\n",
            " 0.91771511 0.9483239  0.94064004 0.96635143 0.9563033  0.96491598\n",
            " 0.96376401 0.96616095 0.96667677 0.96653539]\n",
            "4 day output [[0.96637803]]\n",
            "5 day input [0.8986321  0.92582116 0.92877649 0.95676771 0.93869797 0.93304061\n",
            " 0.94950604 0.96424048 0.95512117 0.95989192 0.96635143 0.96246728\n",
            " 0.92295027 0.9598497  0.98792536 0.98594106 0.92531453 0.92172591\n",
            " 0.96474711 0.97572406 0.99159841 0.96972895 0.97614625 0.96795575\n",
            " 1.         0.99016297 0.99050072 0.96538039 0.98488559 0.97086887\n",
            " 0.94026007 0.87748037 0.83483915 0.85413324 0.77336823 0.77269273\n",
            " 0.88014017 0.84007431 0.89673225 0.85527316 0.83884995 0.74233725\n",
            " 0.82327113 0.78143207 0.6665963  0.7921557  0.64118044 0.68614371\n",
            " 0.66001013 0.65203074 0.58642236 0.56586169 0.66089673 0.65515494\n",
            " 0.70970193 0.66452757 0.69437642 0.69218104 0.63569197 0.65266402\n",
            " 0.63780292 0.7267162  0.71388162 0.74191506 0.75002111 0.77222832\n",
            " 0.83049059 0.8194292  0.8289707  0.8125475  0.78776492 0.75162543\n",
            " 0.78426074 0.77974331 0.81326522 0.8141096  0.79473106 0.83336148\n",
            " 0.85898843 0.83901883 0.85628641 0.87486279 0.88782403 0.90095415\n",
            " 0.92793211 0.948535   0.93333615 0.91746179 0.92544119 0.91771511\n",
            " 0.9483239  0.94064004 0.96635143 0.9563033  0.96491598 0.96376401\n",
            " 0.96616095 0.96667677 0.96653539 0.96637803]\n",
            "5 day output [[0.9665983]]\n",
            "6 day input [0.92582116 0.92877649 0.95676771 0.93869797 0.93304061 0.94950604\n",
            " 0.96424048 0.95512117 0.95989192 0.96635143 0.96246728 0.92295027\n",
            " 0.9598497  0.98792536 0.98594106 0.92531453 0.92172591 0.96474711\n",
            " 0.97572406 0.99159841 0.96972895 0.97614625 0.96795575 1.\n",
            " 0.99016297 0.99050072 0.96538039 0.98488559 0.97086887 0.94026007\n",
            " 0.87748037 0.83483915 0.85413324 0.77336823 0.77269273 0.88014017\n",
            " 0.84007431 0.89673225 0.85527316 0.83884995 0.74233725 0.82327113\n",
            " 0.78143207 0.6665963  0.7921557  0.64118044 0.68614371 0.66001013\n",
            " 0.65203074 0.58642236 0.56586169 0.66089673 0.65515494 0.70970193\n",
            " 0.66452757 0.69437642 0.69218104 0.63569197 0.65266402 0.63780292\n",
            " 0.7267162  0.71388162 0.74191506 0.75002111 0.77222832 0.83049059\n",
            " 0.8194292  0.8289707  0.8125475  0.78776492 0.75162543 0.78426074\n",
            " 0.77974331 0.81326522 0.8141096  0.79473106 0.83336148 0.85898843\n",
            " 0.83901883 0.85628641 0.87486279 0.88782403 0.90095415 0.92793211\n",
            " 0.948535   0.93333615 0.91746179 0.92544119 0.91771511 0.9483239\n",
            " 0.94064004 0.96635143 0.9563033  0.96491598 0.96376401 0.96616095\n",
            " 0.96667677 0.96653539 0.96637803 0.96659827]\n",
            "6 day output [[0.96743387]]\n",
            "7 day input [0.92877649 0.95676771 0.93869797 0.93304061 0.94950604 0.96424048\n",
            " 0.95512117 0.95989192 0.96635143 0.96246728 0.92295027 0.9598497\n",
            " 0.98792536 0.98594106 0.92531453 0.92172591 0.96474711 0.97572406\n",
            " 0.99159841 0.96972895 0.97614625 0.96795575 1.         0.99016297\n",
            " 0.99050072 0.96538039 0.98488559 0.97086887 0.94026007 0.87748037\n",
            " 0.83483915 0.85413324 0.77336823 0.77269273 0.88014017 0.84007431\n",
            " 0.89673225 0.85527316 0.83884995 0.74233725 0.82327113 0.78143207\n",
            " 0.6665963  0.7921557  0.64118044 0.68614371 0.66001013 0.65203074\n",
            " 0.58642236 0.56586169 0.66089673 0.65515494 0.70970193 0.66452757\n",
            " 0.69437642 0.69218104 0.63569197 0.65266402 0.63780292 0.7267162\n",
            " 0.71388162 0.74191506 0.75002111 0.77222832 0.83049059 0.8194292\n",
            " 0.8289707  0.8125475  0.78776492 0.75162543 0.78426074 0.77974331\n",
            " 0.81326522 0.8141096  0.79473106 0.83336148 0.85898843 0.83901883\n",
            " 0.85628641 0.87486279 0.88782403 0.90095415 0.92793211 0.948535\n",
            " 0.93333615 0.91746179 0.92544119 0.91771511 0.9483239  0.94064004\n",
            " 0.96635143 0.9563033  0.96491598 0.96376401 0.96616095 0.96667677\n",
            " 0.96653539 0.96637803 0.96659827 0.96743387]\n",
            "7 day output [[0.9689873]]\n",
            "8 day input [0.95676771 0.93869797 0.93304061 0.94950604 0.96424048 0.95512117\n",
            " 0.95989192 0.96635143 0.96246728 0.92295027 0.9598497  0.98792536\n",
            " 0.98594106 0.92531453 0.92172591 0.96474711 0.97572406 0.99159841\n",
            " 0.96972895 0.97614625 0.96795575 1.         0.99016297 0.99050072\n",
            " 0.96538039 0.98488559 0.97086887 0.94026007 0.87748037 0.83483915\n",
            " 0.85413324 0.77336823 0.77269273 0.88014017 0.84007431 0.89673225\n",
            " 0.85527316 0.83884995 0.74233725 0.82327113 0.78143207 0.6665963\n",
            " 0.7921557  0.64118044 0.68614371 0.66001013 0.65203074 0.58642236\n",
            " 0.56586169 0.66089673 0.65515494 0.70970193 0.66452757 0.69437642\n",
            " 0.69218104 0.63569197 0.65266402 0.63780292 0.7267162  0.71388162\n",
            " 0.74191506 0.75002111 0.77222832 0.83049059 0.8194292  0.8289707\n",
            " 0.8125475  0.78776492 0.75162543 0.78426074 0.77974331 0.81326522\n",
            " 0.8141096  0.79473106 0.83336148 0.85898843 0.83901883 0.85628641\n",
            " 0.87486279 0.88782403 0.90095415 0.92793211 0.948535   0.93333615\n",
            " 0.91746179 0.92544119 0.91771511 0.9483239  0.94064004 0.96635143\n",
            " 0.9563033  0.96491598 0.96376401 0.96616095 0.96667677 0.96653539\n",
            " 0.96637803 0.96659827 0.96743387 0.96898729]\n",
            "8 day output [[0.97124213]]\n",
            "9 day input [0.93869797 0.93304061 0.94950604 0.96424048 0.95512117 0.95989192\n",
            " 0.96635143 0.96246728 0.92295027 0.9598497  0.98792536 0.98594106\n",
            " 0.92531453 0.92172591 0.96474711 0.97572406 0.99159841 0.96972895\n",
            " 0.97614625 0.96795575 1.         0.99016297 0.99050072 0.96538039\n",
            " 0.98488559 0.97086887 0.94026007 0.87748037 0.83483915 0.85413324\n",
            " 0.77336823 0.77269273 0.88014017 0.84007431 0.89673225 0.85527316\n",
            " 0.83884995 0.74233725 0.82327113 0.78143207 0.6665963  0.7921557\n",
            " 0.64118044 0.68614371 0.66001013 0.65203074 0.58642236 0.56586169\n",
            " 0.66089673 0.65515494 0.70970193 0.66452757 0.69437642 0.69218104\n",
            " 0.63569197 0.65266402 0.63780292 0.7267162  0.71388162 0.74191506\n",
            " 0.75002111 0.77222832 0.83049059 0.8194292  0.8289707  0.8125475\n",
            " 0.78776492 0.75162543 0.78426074 0.77974331 0.81326522 0.8141096\n",
            " 0.79473106 0.83336148 0.85898843 0.83901883 0.85628641 0.87486279\n",
            " 0.88782403 0.90095415 0.92793211 0.948535   0.93333615 0.91746179\n",
            " 0.92544119 0.91771511 0.9483239  0.94064004 0.96635143 0.9563033\n",
            " 0.96491598 0.96376401 0.96616095 0.96667677 0.96653539 0.96637803\n",
            " 0.96659827 0.96743387 0.96898729 0.97124213]\n",
            "9 day output [[0.97408706]]\n",
            "10 day input [0.93304061 0.94950604 0.96424048 0.95512117 0.95989192 0.96635143\n",
            " 0.96246728 0.92295027 0.9598497  0.98792536 0.98594106 0.92531453\n",
            " 0.92172591 0.96474711 0.97572406 0.99159841 0.96972895 0.97614625\n",
            " 0.96795575 1.         0.99016297 0.99050072 0.96538039 0.98488559\n",
            " 0.97086887 0.94026007 0.87748037 0.83483915 0.85413324 0.77336823\n",
            " 0.77269273 0.88014017 0.84007431 0.89673225 0.85527316 0.83884995\n",
            " 0.74233725 0.82327113 0.78143207 0.6665963  0.7921557  0.64118044\n",
            " 0.68614371 0.66001013 0.65203074 0.58642236 0.56586169 0.66089673\n",
            " 0.65515494 0.70970193 0.66452757 0.69437642 0.69218104 0.63569197\n",
            " 0.65266402 0.63780292 0.7267162  0.71388162 0.74191506 0.75002111\n",
            " 0.77222832 0.83049059 0.8194292  0.8289707  0.8125475  0.78776492\n",
            " 0.75162543 0.78426074 0.77974331 0.81326522 0.8141096  0.79473106\n",
            " 0.83336148 0.85898843 0.83901883 0.85628641 0.87486279 0.88782403\n",
            " 0.90095415 0.92793211 0.948535   0.93333615 0.91746179 0.92544119\n",
            " 0.91771511 0.9483239  0.94064004 0.96635143 0.9563033  0.96491598\n",
            " 0.96376401 0.96616095 0.96667677 0.96653539 0.96637803 0.96659827\n",
            " 0.96743387 0.96898729 0.97124213 0.97408706]\n",
            "10 day output [[0.977347]]\n",
            "11 day input [0.94950604 0.96424048 0.95512117 0.95989192 0.96635143 0.96246728\n",
            " 0.92295027 0.9598497  0.98792536 0.98594106 0.92531453 0.92172591\n",
            " 0.96474711 0.97572406 0.99159841 0.96972895 0.97614625 0.96795575\n",
            " 1.         0.99016297 0.99050072 0.96538039 0.98488559 0.97086887\n",
            " 0.94026007 0.87748037 0.83483915 0.85413324 0.77336823 0.77269273\n",
            " 0.88014017 0.84007431 0.89673225 0.85527316 0.83884995 0.74233725\n",
            " 0.82327113 0.78143207 0.6665963  0.7921557  0.64118044 0.68614371\n",
            " 0.66001013 0.65203074 0.58642236 0.56586169 0.66089673 0.65515494\n",
            " 0.70970193 0.66452757 0.69437642 0.69218104 0.63569197 0.65266402\n",
            " 0.63780292 0.7267162  0.71388162 0.74191506 0.75002111 0.77222832\n",
            " 0.83049059 0.8194292  0.8289707  0.8125475  0.78776492 0.75162543\n",
            " 0.78426074 0.77974331 0.81326522 0.8141096  0.79473106 0.83336148\n",
            " 0.85898843 0.83901883 0.85628641 0.87486279 0.88782403 0.90095415\n",
            " 0.92793211 0.948535   0.93333615 0.91746179 0.92544119 0.91771511\n",
            " 0.9483239  0.94064004 0.96635143 0.9563033  0.96491598 0.96376401\n",
            " 0.96616095 0.96667677 0.96653539 0.96637803 0.96659827 0.96743387\n",
            " 0.96898729 0.97124213 0.97408706 0.97734702]\n",
            "11 day output [[0.98081815]]\n",
            "12 day input [0.96424048 0.95512117 0.95989192 0.96635143 0.96246728 0.92295027\n",
            " 0.9598497  0.98792536 0.98594106 0.92531453 0.92172591 0.96474711\n",
            " 0.97572406 0.99159841 0.96972895 0.97614625 0.96795575 1.\n",
            " 0.99016297 0.99050072 0.96538039 0.98488559 0.97086887 0.94026007\n",
            " 0.87748037 0.83483915 0.85413324 0.77336823 0.77269273 0.88014017\n",
            " 0.84007431 0.89673225 0.85527316 0.83884995 0.74233725 0.82327113\n",
            " 0.78143207 0.6665963  0.7921557  0.64118044 0.68614371 0.66001013\n",
            " 0.65203074 0.58642236 0.56586169 0.66089673 0.65515494 0.70970193\n",
            " 0.66452757 0.69437642 0.69218104 0.63569197 0.65266402 0.63780292\n",
            " 0.7267162  0.71388162 0.74191506 0.75002111 0.77222832 0.83049059\n",
            " 0.8194292  0.8289707  0.8125475  0.78776492 0.75162543 0.78426074\n",
            " 0.77974331 0.81326522 0.8141096  0.79473106 0.83336148 0.85898843\n",
            " 0.83901883 0.85628641 0.87486279 0.88782403 0.90095415 0.92793211\n",
            " 0.948535   0.93333615 0.91746179 0.92544119 0.91771511 0.9483239\n",
            " 0.94064004 0.96635143 0.9563033  0.96491598 0.96376401 0.96616095\n",
            " 0.96667677 0.96653539 0.96637803 0.96659827 0.96743387 0.96898729\n",
            " 0.97124213 0.97408706 0.97734702 0.98081815]\n",
            "12 day output [[0.9843008]]\n",
            "13 day input [0.95512117 0.95989192 0.96635143 0.96246728 0.92295027 0.9598497\n",
            " 0.98792536 0.98594106 0.92531453 0.92172591 0.96474711 0.97572406\n",
            " 0.99159841 0.96972895 0.97614625 0.96795575 1.         0.99016297\n",
            " 0.99050072 0.96538039 0.98488559 0.97086887 0.94026007 0.87748037\n",
            " 0.83483915 0.85413324 0.77336823 0.77269273 0.88014017 0.84007431\n",
            " 0.89673225 0.85527316 0.83884995 0.74233725 0.82327113 0.78143207\n",
            " 0.6665963  0.7921557  0.64118044 0.68614371 0.66001013 0.65203074\n",
            " 0.58642236 0.56586169 0.66089673 0.65515494 0.70970193 0.66452757\n",
            " 0.69437642 0.69218104 0.63569197 0.65266402 0.63780292 0.7267162\n",
            " 0.71388162 0.74191506 0.75002111 0.77222832 0.83049059 0.8194292\n",
            " 0.8289707  0.8125475  0.78776492 0.75162543 0.78426074 0.77974331\n",
            " 0.81326522 0.8141096  0.79473106 0.83336148 0.85898843 0.83901883\n",
            " 0.85628641 0.87486279 0.88782403 0.90095415 0.92793211 0.948535\n",
            " 0.93333615 0.91746179 0.92544119 0.91771511 0.9483239  0.94064004\n",
            " 0.96635143 0.9563033  0.96491598 0.96376401 0.96616095 0.96667677\n",
            " 0.96653539 0.96637803 0.96659827 0.96743387 0.96898729 0.97124213\n",
            " 0.97408706 0.97734702 0.98081815 0.98430079]\n",
            "13 day output [[0.98762476]]\n",
            "14 day input [0.95989192 0.96635143 0.96246728 0.92295027 0.9598497  0.98792536\n",
            " 0.98594106 0.92531453 0.92172591 0.96474711 0.97572406 0.99159841\n",
            " 0.96972895 0.97614625 0.96795575 1.         0.99016297 0.99050072\n",
            " 0.96538039 0.98488559 0.97086887 0.94026007 0.87748037 0.83483915\n",
            " 0.85413324 0.77336823 0.77269273 0.88014017 0.84007431 0.89673225\n",
            " 0.85527316 0.83884995 0.74233725 0.82327113 0.78143207 0.6665963\n",
            " 0.7921557  0.64118044 0.68614371 0.66001013 0.65203074 0.58642236\n",
            " 0.56586169 0.66089673 0.65515494 0.70970193 0.66452757 0.69437642\n",
            " 0.69218104 0.63569197 0.65266402 0.63780292 0.7267162  0.71388162\n",
            " 0.74191506 0.75002111 0.77222832 0.83049059 0.8194292  0.8289707\n",
            " 0.8125475  0.78776492 0.75162543 0.78426074 0.77974331 0.81326522\n",
            " 0.8141096  0.79473106 0.83336148 0.85898843 0.83901883 0.85628641\n",
            " 0.87486279 0.88782403 0.90095415 0.92793211 0.948535   0.93333615\n",
            " 0.91746179 0.92544119 0.91771511 0.9483239  0.94064004 0.96635143\n",
            " 0.9563033  0.96491598 0.96376401 0.96616095 0.96667677 0.96653539\n",
            " 0.96637803 0.96659827 0.96743387 0.96898729 0.97124213 0.97408706\n",
            " 0.97734702 0.98081815 0.98430079 0.98762476]\n",
            "14 day output [[0.99066854]]\n",
            "15 day input [0.96635143 0.96246728 0.92295027 0.9598497  0.98792536 0.98594106\n",
            " 0.92531453 0.92172591 0.96474711 0.97572406 0.99159841 0.96972895\n",
            " 0.97614625 0.96795575 1.         0.99016297 0.99050072 0.96538039\n",
            " 0.98488559 0.97086887 0.94026007 0.87748037 0.83483915 0.85413324\n",
            " 0.77336823 0.77269273 0.88014017 0.84007431 0.89673225 0.85527316\n",
            " 0.83884995 0.74233725 0.82327113 0.78143207 0.6665963  0.7921557\n",
            " 0.64118044 0.68614371 0.66001013 0.65203074 0.58642236 0.56586169\n",
            " 0.66089673 0.65515494 0.70970193 0.66452757 0.69437642 0.69218104\n",
            " 0.63569197 0.65266402 0.63780292 0.7267162  0.71388162 0.74191506\n",
            " 0.75002111 0.77222832 0.83049059 0.8194292  0.8289707  0.8125475\n",
            " 0.78776492 0.75162543 0.78426074 0.77974331 0.81326522 0.8141096\n",
            " 0.79473106 0.83336148 0.85898843 0.83901883 0.85628641 0.87486279\n",
            " 0.88782403 0.90095415 0.92793211 0.948535   0.93333615 0.91746179\n",
            " 0.92544119 0.91771511 0.9483239  0.94064004 0.96635143 0.9563033\n",
            " 0.96491598 0.96376401 0.96616095 0.96667677 0.96653539 0.96637803\n",
            " 0.96659827 0.96743387 0.96898729 0.97124213 0.97408706 0.97734702\n",
            " 0.98081815 0.98430079 0.98762476 0.99066854]\n",
            "15 day output [[0.99336696]]\n",
            "16 day input [0.96246728 0.92295027 0.9598497  0.98792536 0.98594106 0.92531453\n",
            " 0.92172591 0.96474711 0.97572406 0.99159841 0.96972895 0.97614625\n",
            " 0.96795575 1.         0.99016297 0.99050072 0.96538039 0.98488559\n",
            " 0.97086887 0.94026007 0.87748037 0.83483915 0.85413324 0.77336823\n",
            " 0.77269273 0.88014017 0.84007431 0.89673225 0.85527316 0.83884995\n",
            " 0.74233725 0.82327113 0.78143207 0.6665963  0.7921557  0.64118044\n",
            " 0.68614371 0.66001013 0.65203074 0.58642236 0.56586169 0.66089673\n",
            " 0.65515494 0.70970193 0.66452757 0.69437642 0.69218104 0.63569197\n",
            " 0.65266402 0.63780292 0.7267162  0.71388162 0.74191506 0.75002111\n",
            " 0.77222832 0.83049059 0.8194292  0.8289707  0.8125475  0.78776492\n",
            " 0.75162543 0.78426074 0.77974331 0.81326522 0.8141096  0.79473106\n",
            " 0.83336148 0.85898843 0.83901883 0.85628641 0.87486279 0.88782403\n",
            " 0.90095415 0.92793211 0.948535   0.93333615 0.91746179 0.92544119\n",
            " 0.91771511 0.9483239  0.94064004 0.96635143 0.9563033  0.96491598\n",
            " 0.96376401 0.96616095 0.96667677 0.96653539 0.96637803 0.96659827\n",
            " 0.96743387 0.96898729 0.97124213 0.97408706 0.97734702 0.98081815\n",
            " 0.98430079 0.98762476 0.99066854 0.99336696]\n",
            "16 day output [[0.99570864]]\n",
            "17 day input [0.92295027 0.9598497  0.98792536 0.98594106 0.92531453 0.92172591\n",
            " 0.96474711 0.97572406 0.99159841 0.96972895 0.97614625 0.96795575\n",
            " 1.         0.99016297 0.99050072 0.96538039 0.98488559 0.97086887\n",
            " 0.94026007 0.87748037 0.83483915 0.85413324 0.77336823 0.77269273\n",
            " 0.88014017 0.84007431 0.89673225 0.85527316 0.83884995 0.74233725\n",
            " 0.82327113 0.78143207 0.6665963  0.7921557  0.64118044 0.68614371\n",
            " 0.66001013 0.65203074 0.58642236 0.56586169 0.66089673 0.65515494\n",
            " 0.70970193 0.66452757 0.69437642 0.69218104 0.63569197 0.65266402\n",
            " 0.63780292 0.7267162  0.71388162 0.74191506 0.75002111 0.77222832\n",
            " 0.83049059 0.8194292  0.8289707  0.8125475  0.78776492 0.75162543\n",
            " 0.78426074 0.77974331 0.81326522 0.8141096  0.79473106 0.83336148\n",
            " 0.85898843 0.83901883 0.85628641 0.87486279 0.88782403 0.90095415\n",
            " 0.92793211 0.948535   0.93333615 0.91746179 0.92544119 0.91771511\n",
            " 0.9483239  0.94064004 0.96635143 0.9563033  0.96491598 0.96376401\n",
            " 0.96616095 0.96667677 0.96653539 0.96637803 0.96659827 0.96743387\n",
            " 0.96898729 0.97124213 0.97408706 0.97734702 0.98081815 0.98430079\n",
            " 0.98762476 0.99066854 0.99336696 0.99570864]\n",
            "17 day output [[0.9977298]]\n",
            "18 day input [0.9598497  0.98792536 0.98594106 0.92531453 0.92172591 0.96474711\n",
            " 0.97572406 0.99159841 0.96972895 0.97614625 0.96795575 1.\n",
            " 0.99016297 0.99050072 0.96538039 0.98488559 0.97086887 0.94026007\n",
            " 0.87748037 0.83483915 0.85413324 0.77336823 0.77269273 0.88014017\n",
            " 0.84007431 0.89673225 0.85527316 0.83884995 0.74233725 0.82327113\n",
            " 0.78143207 0.6665963  0.7921557  0.64118044 0.68614371 0.66001013\n",
            " 0.65203074 0.58642236 0.56586169 0.66089673 0.65515494 0.70970193\n",
            " 0.66452757 0.69437642 0.69218104 0.63569197 0.65266402 0.63780292\n",
            " 0.7267162  0.71388162 0.74191506 0.75002111 0.77222832 0.83049059\n",
            " 0.8194292  0.8289707  0.8125475  0.78776492 0.75162543 0.78426074\n",
            " 0.77974331 0.81326522 0.8141096  0.79473106 0.83336148 0.85898843\n",
            " 0.83901883 0.85628641 0.87486279 0.88782403 0.90095415 0.92793211\n",
            " 0.948535   0.93333615 0.91746179 0.92544119 0.91771511 0.9483239\n",
            " 0.94064004 0.96635143 0.9563033  0.96491598 0.96376401 0.96616095\n",
            " 0.96667677 0.96653539 0.96637803 0.96659827 0.96743387 0.96898729\n",
            " 0.97124213 0.97408706 0.97734702 0.98081815 0.98430079 0.98762476\n",
            " 0.99066854 0.99336696 0.99570864 0.99772978]\n",
            "18 day output [[0.9994981]]\n",
            "19 day input [0.98792536 0.98594106 0.92531453 0.92172591 0.96474711 0.97572406\n",
            " 0.99159841 0.96972895 0.97614625 0.96795575 1.         0.99016297\n",
            " 0.99050072 0.96538039 0.98488559 0.97086887 0.94026007 0.87748037\n",
            " 0.83483915 0.85413324 0.77336823 0.77269273 0.88014017 0.84007431\n",
            " 0.89673225 0.85527316 0.83884995 0.74233725 0.82327113 0.78143207\n",
            " 0.6665963  0.7921557  0.64118044 0.68614371 0.66001013 0.65203074\n",
            " 0.58642236 0.56586169 0.66089673 0.65515494 0.70970193 0.66452757\n",
            " 0.69437642 0.69218104 0.63569197 0.65266402 0.63780292 0.7267162\n",
            " 0.71388162 0.74191506 0.75002111 0.77222832 0.83049059 0.8194292\n",
            " 0.8289707  0.8125475  0.78776492 0.75162543 0.78426074 0.77974331\n",
            " 0.81326522 0.8141096  0.79473106 0.83336148 0.85898843 0.83901883\n",
            " 0.85628641 0.87486279 0.88782403 0.90095415 0.92793211 0.948535\n",
            " 0.93333615 0.91746179 0.92544119 0.91771511 0.9483239  0.94064004\n",
            " 0.96635143 0.9563033  0.96491598 0.96376401 0.96616095 0.96667677\n",
            " 0.96653539 0.96637803 0.96659827 0.96743387 0.96898729 0.97124213\n",
            " 0.97408706 0.97734702 0.98081815 0.98430079 0.98762476 0.99066854\n",
            " 0.99336696 0.99570864 0.99772978 0.99949813]\n",
            "19 day output [[1.0010992]]\n",
            "20 day input [0.98594106 0.92531453 0.92172591 0.96474711 0.97572406 0.99159841\n",
            " 0.96972895 0.97614625 0.96795575 1.         0.99016297 0.99050072\n",
            " 0.96538039 0.98488559 0.97086887 0.94026007 0.87748037 0.83483915\n",
            " 0.85413324 0.77336823 0.77269273 0.88014017 0.84007431 0.89673225\n",
            " 0.85527316 0.83884995 0.74233725 0.82327113 0.78143207 0.6665963\n",
            " 0.7921557  0.64118044 0.68614371 0.66001013 0.65203074 0.58642236\n",
            " 0.56586169 0.66089673 0.65515494 0.70970193 0.66452757 0.69437642\n",
            " 0.69218104 0.63569197 0.65266402 0.63780292 0.7267162  0.71388162\n",
            " 0.74191506 0.75002111 0.77222832 0.83049059 0.8194292  0.8289707\n",
            " 0.8125475  0.78776492 0.75162543 0.78426074 0.77974331 0.81326522\n",
            " 0.8141096  0.79473106 0.83336148 0.85898843 0.83901883 0.85628641\n",
            " 0.87486279 0.88782403 0.90095415 0.92793211 0.948535   0.93333615\n",
            " 0.91746179 0.92544119 0.91771511 0.9483239  0.94064004 0.96635143\n",
            " 0.9563033  0.96491598 0.96376401 0.96616095 0.96667677 0.96653539\n",
            " 0.96637803 0.96659827 0.96743387 0.96898729 0.97124213 0.97408706\n",
            " 0.97734702 0.98081815 0.98430079 0.98762476 0.99066854 0.99336696\n",
            " 0.99570864 0.99772978 0.99949813 1.00109923]\n",
            "20 day output [[1.0026208]]\n",
            "21 day input [0.92531453 0.92172591 0.96474711 0.97572406 0.99159841 0.96972895\n",
            " 0.97614625 0.96795575 1.         0.99016297 0.99050072 0.96538039\n",
            " 0.98488559 0.97086887 0.94026007 0.87748037 0.83483915 0.85413324\n",
            " 0.77336823 0.77269273 0.88014017 0.84007431 0.89673225 0.85527316\n",
            " 0.83884995 0.74233725 0.82327113 0.78143207 0.6665963  0.7921557\n",
            " 0.64118044 0.68614371 0.66001013 0.65203074 0.58642236 0.56586169\n",
            " 0.66089673 0.65515494 0.70970193 0.66452757 0.69437642 0.69218104\n",
            " 0.63569197 0.65266402 0.63780292 0.7267162  0.71388162 0.74191506\n",
            " 0.75002111 0.77222832 0.83049059 0.8194292  0.8289707  0.8125475\n",
            " 0.78776492 0.75162543 0.78426074 0.77974331 0.81326522 0.8141096\n",
            " 0.79473106 0.83336148 0.85898843 0.83901883 0.85628641 0.87486279\n",
            " 0.88782403 0.90095415 0.92793211 0.948535   0.93333615 0.91746179\n",
            " 0.92544119 0.91771511 0.9483239  0.94064004 0.96635143 0.9563033\n",
            " 0.96491598 0.96376401 0.96616095 0.96667677 0.96653539 0.96637803\n",
            " 0.96659827 0.96743387 0.96898729 0.97124213 0.97408706 0.97734702\n",
            " 0.98081815 0.98430079 0.98762476 0.99066854 0.99336696 0.99570864\n",
            " 0.99772978 0.99949813 1.00109923 1.00262082]\n",
            "21 day output [[1.0041397]]\n",
            "22 day input [0.92172591 0.96474711 0.97572406 0.99159841 0.96972895 0.97614625\n",
            " 0.96795575 1.         0.99016297 0.99050072 0.96538039 0.98488559\n",
            " 0.97086887 0.94026007 0.87748037 0.83483915 0.85413324 0.77336823\n",
            " 0.77269273 0.88014017 0.84007431 0.89673225 0.85527316 0.83884995\n",
            " 0.74233725 0.82327113 0.78143207 0.6665963  0.7921557  0.64118044\n",
            " 0.68614371 0.66001013 0.65203074 0.58642236 0.56586169 0.66089673\n",
            " 0.65515494 0.70970193 0.66452757 0.69437642 0.69218104 0.63569197\n",
            " 0.65266402 0.63780292 0.7267162  0.71388162 0.74191506 0.75002111\n",
            " 0.77222832 0.83049059 0.8194292  0.8289707  0.8125475  0.78776492\n",
            " 0.75162543 0.78426074 0.77974331 0.81326522 0.8141096  0.79473106\n",
            " 0.83336148 0.85898843 0.83901883 0.85628641 0.87486279 0.88782403\n",
            " 0.90095415 0.92793211 0.948535   0.93333615 0.91746179 0.92544119\n",
            " 0.91771511 0.9483239  0.94064004 0.96635143 0.9563033  0.96491598\n",
            " 0.96376401 0.96616095 0.96667677 0.96653539 0.96637803 0.96659827\n",
            " 0.96743387 0.96898729 0.97124213 0.97408706 0.97734702 0.98081815\n",
            " 0.98430079 0.98762476 0.99066854 0.99336696 0.99570864 0.99772978\n",
            " 0.99949813 1.00109923 1.00262082 1.00413966]\n",
            "22 day output [[1.0057138]]\n",
            "23 day input [0.96474711 0.97572406 0.99159841 0.96972895 0.97614625 0.96795575\n",
            " 1.         0.99016297 0.99050072 0.96538039 0.98488559 0.97086887\n",
            " 0.94026007 0.87748037 0.83483915 0.85413324 0.77336823 0.77269273\n",
            " 0.88014017 0.84007431 0.89673225 0.85527316 0.83884995 0.74233725\n",
            " 0.82327113 0.78143207 0.6665963  0.7921557  0.64118044 0.68614371\n",
            " 0.66001013 0.65203074 0.58642236 0.56586169 0.66089673 0.65515494\n",
            " 0.70970193 0.66452757 0.69437642 0.69218104 0.63569197 0.65266402\n",
            " 0.63780292 0.7267162  0.71388162 0.74191506 0.75002111 0.77222832\n",
            " 0.83049059 0.8194292  0.8289707  0.8125475  0.78776492 0.75162543\n",
            " 0.78426074 0.77974331 0.81326522 0.8141096  0.79473106 0.83336148\n",
            " 0.85898843 0.83901883 0.85628641 0.87486279 0.88782403 0.90095415\n",
            " 0.92793211 0.948535   0.93333615 0.91746179 0.92544119 0.91771511\n",
            " 0.9483239  0.94064004 0.96635143 0.9563033  0.96491598 0.96376401\n",
            " 0.96616095 0.96667677 0.96653539 0.96637803 0.96659827 0.96743387\n",
            " 0.96898729 0.97124213 0.97408706 0.97734702 0.98081815 0.98430079\n",
            " 0.98762476 0.99066854 0.99336696 0.99570864 0.99772978 0.99949813\n",
            " 1.00109923 1.00262082 1.00413966 1.00571382]\n",
            "23 day output [[1.0073779]]\n",
            "24 day input [0.97572406 0.99159841 0.96972895 0.97614625 0.96795575 1.\n",
            " 0.99016297 0.99050072 0.96538039 0.98488559 0.97086887 0.94026007\n",
            " 0.87748037 0.83483915 0.85413324 0.77336823 0.77269273 0.88014017\n",
            " 0.84007431 0.89673225 0.85527316 0.83884995 0.74233725 0.82327113\n",
            " 0.78143207 0.6665963  0.7921557  0.64118044 0.68614371 0.66001013\n",
            " 0.65203074 0.58642236 0.56586169 0.66089673 0.65515494 0.70970193\n",
            " 0.66452757 0.69437642 0.69218104 0.63569197 0.65266402 0.63780292\n",
            " 0.7267162  0.71388162 0.74191506 0.75002111 0.77222832 0.83049059\n",
            " 0.8194292  0.8289707  0.8125475  0.78776492 0.75162543 0.78426074\n",
            " 0.77974331 0.81326522 0.8141096  0.79473106 0.83336148 0.85898843\n",
            " 0.83901883 0.85628641 0.87486279 0.88782403 0.90095415 0.92793211\n",
            " 0.948535   0.93333615 0.91746179 0.92544119 0.91771511 0.9483239\n",
            " 0.94064004 0.96635143 0.9563033  0.96491598 0.96376401 0.96616095\n",
            " 0.96667677 0.96653539 0.96637803 0.96659827 0.96743387 0.96898729\n",
            " 0.97124213 0.97408706 0.97734702 0.98081815 0.98430079 0.98762476\n",
            " 0.99066854 0.99336696 0.99570864 0.99772978 0.99949813 1.00109923\n",
            " 1.00262082 1.00413966 1.00571382 1.00737786]\n",
            "24 day output [[1.0091413]]\n",
            "25 day input [0.99159841 0.96972895 0.97614625 0.96795575 1.         0.99016297\n",
            " 0.99050072 0.96538039 0.98488559 0.97086887 0.94026007 0.87748037\n",
            " 0.83483915 0.85413324 0.77336823 0.77269273 0.88014017 0.84007431\n",
            " 0.89673225 0.85527316 0.83884995 0.74233725 0.82327113 0.78143207\n",
            " 0.6665963  0.7921557  0.64118044 0.68614371 0.66001013 0.65203074\n",
            " 0.58642236 0.56586169 0.66089673 0.65515494 0.70970193 0.66452757\n",
            " 0.69437642 0.69218104 0.63569197 0.65266402 0.63780292 0.7267162\n",
            " 0.71388162 0.74191506 0.75002111 0.77222832 0.83049059 0.8194292\n",
            " 0.8289707  0.8125475  0.78776492 0.75162543 0.78426074 0.77974331\n",
            " 0.81326522 0.8141096  0.79473106 0.83336148 0.85898843 0.83901883\n",
            " 0.85628641 0.87486279 0.88782403 0.90095415 0.92793211 0.948535\n",
            " 0.93333615 0.91746179 0.92544119 0.91771511 0.9483239  0.94064004\n",
            " 0.96635143 0.9563033  0.96491598 0.96376401 0.96616095 0.96667677\n",
            " 0.96653539 0.96637803 0.96659827 0.96743387 0.96898729 0.97124213\n",
            " 0.97408706 0.97734702 0.98081815 0.98430079 0.98762476 0.99066854\n",
            " 0.99336696 0.99570864 0.99772978 0.99949813 1.00109923 1.00262082\n",
            " 1.00413966 1.00571382 1.00737786 1.00914133]\n",
            "25 day output [[1.0109934]]\n",
            "26 day input [0.96972895 0.97614625 0.96795575 1.         0.99016297 0.99050072\n",
            " 0.96538039 0.98488559 0.97086887 0.94026007 0.87748037 0.83483915\n",
            " 0.85413324 0.77336823 0.77269273 0.88014017 0.84007431 0.89673225\n",
            " 0.85527316 0.83884995 0.74233725 0.82327113 0.78143207 0.6665963\n",
            " 0.7921557  0.64118044 0.68614371 0.66001013 0.65203074 0.58642236\n",
            " 0.56586169 0.66089673 0.65515494 0.70970193 0.66452757 0.69437642\n",
            " 0.69218104 0.63569197 0.65266402 0.63780292 0.7267162  0.71388162\n",
            " 0.74191506 0.75002111 0.77222832 0.83049059 0.8194292  0.8289707\n",
            " 0.8125475  0.78776492 0.75162543 0.78426074 0.77974331 0.81326522\n",
            " 0.8141096  0.79473106 0.83336148 0.85898843 0.83901883 0.85628641\n",
            " 0.87486279 0.88782403 0.90095415 0.92793211 0.948535   0.93333615\n",
            " 0.91746179 0.92544119 0.91771511 0.9483239  0.94064004 0.96635143\n",
            " 0.9563033  0.96491598 0.96376401 0.96616095 0.96667677 0.96653539\n",
            " 0.96637803 0.96659827 0.96743387 0.96898729 0.97124213 0.97408706\n",
            " 0.97734702 0.98081815 0.98430079 0.98762476 0.99066854 0.99336696\n",
            " 0.99570864 0.99772978 0.99949813 1.00109923 1.00262082 1.00413966\n",
            " 1.00571382 1.00737786 1.00914133 1.01099336]\n",
            "26 day output [[1.0129076]]\n",
            "27 day input [0.97614625 0.96795575 1.         0.99016297 0.99050072 0.96538039\n",
            " 0.98488559 0.97086887 0.94026007 0.87748037 0.83483915 0.85413324\n",
            " 0.77336823 0.77269273 0.88014017 0.84007431 0.89673225 0.85527316\n",
            " 0.83884995 0.74233725 0.82327113 0.78143207 0.6665963  0.7921557\n",
            " 0.64118044 0.68614371 0.66001013 0.65203074 0.58642236 0.56586169\n",
            " 0.66089673 0.65515494 0.70970193 0.66452757 0.69437642 0.69218104\n",
            " 0.63569197 0.65266402 0.63780292 0.7267162  0.71388162 0.74191506\n",
            " 0.75002111 0.77222832 0.83049059 0.8194292  0.8289707  0.8125475\n",
            " 0.78776492 0.75162543 0.78426074 0.77974331 0.81326522 0.8141096\n",
            " 0.79473106 0.83336148 0.85898843 0.83901883 0.85628641 0.87486279\n",
            " 0.88782403 0.90095415 0.92793211 0.948535   0.93333615 0.91746179\n",
            " 0.92544119 0.91771511 0.9483239  0.94064004 0.96635143 0.9563033\n",
            " 0.96491598 0.96376401 0.96616095 0.96667677 0.96653539 0.96637803\n",
            " 0.96659827 0.96743387 0.96898729 0.97124213 0.97408706 0.97734702\n",
            " 0.98081815 0.98430079 0.98762476 0.99066854 0.99336696 0.99570864\n",
            " 0.99772978 0.99949813 1.00109923 1.00262082 1.00413966 1.00571382\n",
            " 1.00737786 1.00914133 1.01099336 1.01290762]\n",
            "27 day output [[1.0148479]]\n",
            "28 day input [0.96795575 1.         0.99016297 0.99050072 0.96538039 0.98488559\n",
            " 0.97086887 0.94026007 0.87748037 0.83483915 0.85413324 0.77336823\n",
            " 0.77269273 0.88014017 0.84007431 0.89673225 0.85527316 0.83884995\n",
            " 0.74233725 0.82327113 0.78143207 0.6665963  0.7921557  0.64118044\n",
            " 0.68614371 0.66001013 0.65203074 0.58642236 0.56586169 0.66089673\n",
            " 0.65515494 0.70970193 0.66452757 0.69437642 0.69218104 0.63569197\n",
            " 0.65266402 0.63780292 0.7267162  0.71388162 0.74191506 0.75002111\n",
            " 0.77222832 0.83049059 0.8194292  0.8289707  0.8125475  0.78776492\n",
            " 0.75162543 0.78426074 0.77974331 0.81326522 0.8141096  0.79473106\n",
            " 0.83336148 0.85898843 0.83901883 0.85628641 0.87486279 0.88782403\n",
            " 0.90095415 0.92793211 0.948535   0.93333615 0.91746179 0.92544119\n",
            " 0.91771511 0.9483239  0.94064004 0.96635143 0.9563033  0.96491598\n",
            " 0.96376401 0.96616095 0.96667677 0.96653539 0.96637803 0.96659827\n",
            " 0.96743387 0.96898729 0.97124213 0.97408706 0.97734702 0.98081815\n",
            " 0.98430079 0.98762476 0.99066854 0.99336696 0.99570864 0.99772978\n",
            " 0.99949813 1.00109923 1.00262082 1.00413966 1.00571382 1.00737786\n",
            " 1.00914133 1.01099336 1.01290762 1.01484787]\n",
            "28 day output [[1.0167766]]\n",
            "29 day input [1.         0.99016297 0.99050072 0.96538039 0.98488559 0.97086887\n",
            " 0.94026007 0.87748037 0.83483915 0.85413324 0.77336823 0.77269273\n",
            " 0.88014017 0.84007431 0.89673225 0.85527316 0.83884995 0.74233725\n",
            " 0.82327113 0.78143207 0.6665963  0.7921557  0.64118044 0.68614371\n",
            " 0.66001013 0.65203074 0.58642236 0.56586169 0.66089673 0.65515494\n",
            " 0.70970193 0.66452757 0.69437642 0.69218104 0.63569197 0.65266402\n",
            " 0.63780292 0.7267162  0.71388162 0.74191506 0.75002111 0.77222832\n",
            " 0.83049059 0.8194292  0.8289707  0.8125475  0.78776492 0.75162543\n",
            " 0.78426074 0.77974331 0.81326522 0.8141096  0.79473106 0.83336148\n",
            " 0.85898843 0.83901883 0.85628641 0.87486279 0.88782403 0.90095415\n",
            " 0.92793211 0.948535   0.93333615 0.91746179 0.92544119 0.91771511\n",
            " 0.9483239  0.94064004 0.96635143 0.9563033  0.96491598 0.96376401\n",
            " 0.96616095 0.96667677 0.96653539 0.96637803 0.96659827 0.96743387\n",
            " 0.96898729 0.97124213 0.97408706 0.97734702 0.98081815 0.98430079\n",
            " 0.98762476 0.99066854 0.99336696 0.99570864 0.99772978 0.99949813\n",
            " 1.00109923 1.00262082 1.00413966 1.00571382 1.00737786 1.00914133\n",
            " 1.01099336 1.01290762 1.01484787 1.01677656]\n",
            "29 day output [[1.0186592]]\n",
            "[[0.9637640118598938], [0.9661609530448914], [0.9666767716407776], [0.9665353894233704], [0.9663780331611633], [0.9665982723236084], [0.9674338698387146], [0.9689872860908508], [0.9712421298027039], [0.9740870594978333], [0.9773470163345337], [0.9808181524276733], [0.9843007922172546], [0.9876247644424438], [0.990668535232544], [0.9933669567108154], [0.9957086443901062], [0.9977297782897949], [0.9994981288909912], [1.0010992288589478], [1.002620816230774], [1.0041396617889404], [1.0057138204574585], [1.0073778629302979], [1.0091413259506226], [1.0109933614730835], [1.01290762424469], [1.0148478746414185], [1.0167765617370605], [1.018659234046936]]\n"
          ]
        }
      ]
    },
    {
      "cell_type": "code",
      "source": [
        "day_new=np.arange(1,101)\n",
        "day_pred=np.arange(101,131)"
      ],
      "metadata": {
        "id": "pZyHbDQIyGut"
      },
      "execution_count": 28,
      "outputs": []
    },
    {
      "cell_type": "code",
      "source": [
        "plt.plot(day_new,scaler.inverse_transform(df1[1158:]))\n",
        "plt.plot(day_pred,scaler.inverse_transform(lst_output))"
      ],
      "metadata": {
        "colab": {
          "base_uri": "https://localhost:8080/",
          "height": 447
        },
        "id": "RGLB4w9tyH8n",
        "outputId": "f9e27a6b-c974-4c5d-9a96-a8ab6b5ae12e"
      },
      "execution_count": 29,
      "outputs": [
        {
          "output_type": "execute_result",
          "data": {
            "text/plain": [
              "[<matplotlib.lines.Line2D at 0x7e8e33b6e980>]"
            ]
          },
          "metadata": {},
          "execution_count": 29
        },
        {
          "output_type": "display_data",
          "data": {
            "text/plain": [
              "<Figure size 640x480 with 1 Axes>"
            ],
            "image/png": "[encoded data removed]"
          },
          "metadata": {}
        }
      ]
    },
    {
      "cell_type": "code",
      "source": [
        "df3=df1.tolist()\n",
        "df3.extend(lst_output)\n",
        "plt.plot(df3[1200:])"
      ],
      "metadata": {
        "colab": {
          "base_uri": "https://localhost:8080/",
          "height": 447
        },
        "id": "ON9tcp7FyWAV",
        "outputId": "2fcbef08-184f-49a1-d595-722d3258dda5"
      },
      "execution_count": 30,
      "outputs": [
        {
          "output_type": "execute_result",
          "data": {
            "text/plain": [
              "[<matplotlib.lines.Line2D at 0x7e8e33908610>]"
            ]
          },
          "metadata": {},
          "execution_count": 30
        },
        {
          "output_type": "display_data",
          "data": {
            "text/plain": [
              "<Figure size 640x480 with 1 Axes>"
            ],
            "image/png": "[encoded data removed]"
          },
          "metadata": {}
        }
      ]
    },
    {
      "cell_type": "code",
      "source": [
        "df3=scaler.inverse_transform(df3).tolist()\n",
        "plt.plot(df3)"
      ],
      "metadata": {
        "colab": {
          "base_uri": "https://localhost:8080/",
          "height": 447
        },
        "id": "IlisePS3ycqJ",
        "outputId": "f21ecafe-6bfc-4318-dce0-a0302c4bc446"
      },
      "execution_count": 32,
      "outputs": [
        {
          "output_type": "execute_result",
          "data": {
            "text/plain": [
              "[<matplotlib.lines.Line2D at 0x7e8e339a04c0>]"
            ]
          },
          "metadata": {},
          "execution_count": 32
        },
        {
          "output_type": "display_data",
          "data": {
            "text/plain": [
              "<Figure size 640x480 with 1 Axes>"
            ],
            "image/png": "[encoded data removed]"
          },
          "metadata": {}
        }
      ]
    }
  ]
}